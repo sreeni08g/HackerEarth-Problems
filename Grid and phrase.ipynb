{
 "cells": [
  {
   "cell_type": "markdown",
   "metadata": {},
   "source": [
    "# https://www.hackerearth.com/practice/data-structures/arrays/multi-dimensional/practice-problems/algorithm/jadvaliioo-62280ff6/"
   ]
  },
  {
   "cell_type": "code",
   "execution_count": 2,
   "metadata": {},
   "outputs": [
    {
     "name": "stdout",
     "output_type": "stream",
     "text": [
      "7 87\n",
      "sasssbbbsssabaasssbasaasaabasabaabsasbssbbbbaasbbaababssbbsbssbssbbabbsasssbssaaassabba\n",
      "bbabaaasaabssbbbasbasbabbaaaabsbbbasssbasaaaaaaassssbsababbbbbabsbbaabaaababaaasasabaab\n",
      "aaassassasaaasassbsbabsbsbbbbbbabbsbsbbsbbsaaabsaabbsasbabsaasssaabsassaassasbbabbsssss\n",
      "sbabsssassabbbasssbsbaaaabababbabbssssbsaaabasaaababbaaabbsaaabaabsabbsasssssssbbbasasa\n",
      "absssbssbssbasasbabbbssbasabbsaasaassbbaaaaaaaabasaabbssaababaaaasbaababbaaaabasaaasbsa\n",
      "aaabsbaaabsbbasasabaabbssassbssbbssbsabaaasabsbssssasasaabaababssbaaabssbbsssbsbsaabsas\n",
      "bbsbsaaabsasssssbssasbabbsassassbabaasssbssbaabsasbbbbbabaaabaasbasbbsbaabsbbbbbaasssba\n",
      "2\n"
     ]
    }
   ],
   "source": [
    "n,m=map(int,input().split())\n",
    "matrix=[]\n",
    "for i in range(n):\n",
    "    temp = list(input())\n",
    "    matrix.append(temp)\n",
    "cnt=0\n",
    "\n",
    "for i in range(m-3):\n",
    "    if(matrix[0][i]=='s'):\n",
    "        if(matrix[0][i+1]=='a' and matrix[0][i+2]=='b' and matrix[0][i+3]=='a'):\n",
    "            cnt+=1\n",
    "for i in range(n-3):\n",
    "    if(matrix[i][0]=='s'):\n",
    "        if(matrix[i+1][0]=='a' and matrix[i+2][0]=='b' and matrix[i+3][0]=='a'):\n",
    "            cnt+=1\n",
    "k=0\n",
    "for i in range(n-3):\n",
    "    if(matrix[i][k]=='s'):\n",
    "        if(matrix[i+1][k+1]=='a' and matrix[i+2][k+2]=='b' and matrix[i+3][k+3]=='a'):\n",
    "            cnt+=1\n",
    "    k+=1\n",
    "k=0\n",
    "for i in range(n-1,3,-1):\n",
    "    if(matrix[i][k]=='s'):\n",
    "        if(matrix[i-1][k+1]=='a' and matrix[i-2][k+2]=='b' and matrix[i-3][k+3]=='a'):\n",
    "            cnt+=1\n",
    "    k+=1\n",
    "\n",
    "print(cnt)"
   ]
  },
  {
   "cell_type": "code",
   "execution_count": null,
   "metadata": {},
   "outputs": [],
   "source": []
  }
 ],
 "metadata": {
  "kernelspec": {
   "display_name": "Python 3",
   "language": "python",
   "name": "python3"
  },
  "language_info": {
   "codemirror_mode": {
    "name": "ipython",
    "version": 3
   },
   "file_extension": ".py",
   "mimetype": "text/x-python",
   "name": "python",
   "nbconvert_exporter": "python",
   "pygments_lexer": "ipython3",
   "version": "3.7.3"
  }
 },
 "nbformat": 4,
 "nbformat_minor": 2
}
