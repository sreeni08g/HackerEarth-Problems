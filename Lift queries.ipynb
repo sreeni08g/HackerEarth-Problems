{
 "cells": [
  {
   "cell_type": "markdown",
   "metadata": {},
   "source": [
    "# https://www.hackerearth.com/practice/basic-programming/input-output/basics-of-input-output/practice-problems/algorithm/lift-queries/"
   ]
  },
  {
   "cell_type": "code",
   "execution_count": 5,
   "metadata": {},
   "outputs": [
    {
     "name": "stdout",
     "output_type": "stream",
     "text": [
      "5\n",
      "6\n",
      "B\n",
      "5\n",
      "B\n",
      "4\n",
      "B\n",
      "2\n",
      "A\n",
      "3\n",
      "A\n"
     ]
    }
   ],
   "source": [
    "_=int(input())\n",
    "pos_A= 0\n",
    "pos_B=7\n",
    "for i in range(_):\n",
    "    floor= int(input())\n",
    "    dis_A = abs(floor - pos_A)\n",
    "    dis_B = abs(floor - pos_B)\n",
    "    if (dis_A <=dis_B):\n",
    "        pos_A=floor\n",
    "        print('A')\n",
    "    else:\n",
    "        pos_B = floor\n",
    "        print('B')\n"
   ]
  },
  {
   "cell_type": "markdown",
   "metadata": {},
   "source": []
  }
 ],
 "metadata": {
  "kernelspec": {
   "display_name": "Python 3",
   "language": "python",
   "name": "python3"
  },
  "language_info": {
   "codemirror_mode": {
    "name": "ipython",
    "version": 3
   },
   "file_extension": ".py",
   "mimetype": "text/x-python",
   "name": "python",
   "nbconvert_exporter": "python",
   "pygments_lexer": "ipython3",
   "version": "3.7.3"
  }
 },
 "nbformat": 4,
 "nbformat_minor": 2
}
