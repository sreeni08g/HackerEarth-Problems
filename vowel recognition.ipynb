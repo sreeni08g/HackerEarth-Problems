{
 "cells": [
  {
   "cell_type": "code",
   "execution_count": 22,
   "metadata": {},
   "outputs": [],
   "source": [
    "s='baceb'"
   ]
  },
  {
   "cell_type": "code",
   "execution_count": 23,
   "metadata": {},
   "outputs": [
    {
     "data": {
      "text/plain": [
       "'bace'"
      ]
     },
     "execution_count": 23,
     "metadata": {},
     "output_type": "execute_result"
    }
   ],
   "source": [
    "s[0:4]"
   ]
  },
  {
   "cell_type": "code",
   "execution_count": 39,
   "metadata": {},
   "outputs": [],
   "source": [
    "def check_vowel(tstr):\n",
    "    n=len(tstr)\n",
    "    cnt=0\n",
    "    for i in range(n):\n",
    "        if(tstr[i] in ['a','e','i','o','u','A','E','I','O','U']):\n",
    "            cnt+=1\n",
    "    return cnt"
   ]
  },
  {
   "cell_type": "code",
   "execution_count": 15,
   "metadata": {},
   "outputs": [
    {
     "data": {
      "text/plain": [
       "4"
      ]
     },
     "execution_count": 15,
     "metadata": {},
     "output_type": "execute_result"
    }
   ],
   "source": [
    "check_vowel('abaei')"
   ]
  },
  {
   "cell_type": "code",
   "execution_count": 24,
   "metadata": {},
   "outputs": [],
   "source": [
    "n=len(s)\n",
    "n_sub=int((n*(n+1))/2)"
   ]
  },
  {
   "cell_type": "code",
   "execution_count": 29,
   "metadata": {},
   "outputs": [],
   "source": [
    "cnt=1\n",
    "l=0\n",
    "r=l+1\n",
    "global_li=[]\n",
    "tsum=0"
   ]
  },
  {
   "cell_type": "code",
   "execution_count": 30,
   "metadata": {},
   "outputs": [
    {
     "name": "stdout",
     "output_type": "stream",
     "text": [
      "5\n"
     ]
    }
   ],
   "source": [
    "print(n)"
   ]
  },
  {
   "cell_type": "code",
   "execution_count": 31,
   "metadata": {},
   "outputs": [
    {
     "name": "stdout",
     "output_type": "stream",
     "text": [
      "['b', 'a', 'c', 'e', 'ba', 'ac', 'ce', 'eb', 'bac', 'ace', 'ceb', 'bace', 'aceb', 'baceb'] 16\n"
     ]
    }
   ],
   "source": [
    "while(cnt<=n):\n",
    "    while(r<=n):\n",
    "        t=s[l:r]\n",
    "        if(t not in global_li):\n",
    "            global_li.append(t)\n",
    "            tsum+=check_vowel(t)\n",
    "        l+=1\n",
    "        r+=1\n",
    "    l=0\n",
    "    cnt+=1\n",
    "    r=cnt\n",
    "print(global_li,tsum)"
   ]
  },
  {
   "cell_type": "code",
   "execution_count": 42,
   "metadata": {},
   "outputs": [
    {
     "name": "stdout",
     "output_type": "stream",
     "text": [
      "1\n",
      "MOUURVqrpL\n",
      "69\n"
     ]
    }
   ],
   "source": [
    "no_test=int(input())\n",
    "for i in range(no_test):\n",
    "    s=input()\n",
    "    cnt=1\n",
    "    n=len(s)\n",
    "    l=0\n",
    "    r=l+1\n",
    "    global_li=[]\n",
    "    tsum=0\n",
    "    while(cnt<=n):\n",
    "        while(r<=n):\n",
    "            t=s[l:r]\n",
    "            if(t not in global_li):\n",
    "                global_li.append(t)\n",
    "                tsum+=check_vowel(t)\n",
    "            l+=1\n",
    "            r+=1\n",
    "        l=0\n",
    "        cnt+=1\n",
    "        r=cnt\n",
    "    print(tsum)"
   ]
  },
  {
   "cell_type": "code",
   "execution_count": 43,
   "metadata": {},
   "outputs": [
    {
     "name": "stdout",
     "output_type": "stream",
     "text": [
      "['M', 'O', 'U', 'R', 'V', 'q', 'r', 'p', 'L', 'MO', 'OU', 'UU', 'UR', 'RV', 'Vq', 'qr', 'rp', 'pL', 'MOU', 'OUU', 'UUR', 'URV', 'RVq', 'Vqr', 'qrp', 'rpL', 'MOUU', 'OUUR', 'UURV', 'URVq', 'RVqr', 'Vqrp', 'qrpL', 'MOUUR', 'OUURV', 'UURVq', 'URVqr', 'RVqrp', 'VqrpL', 'MOUURV', 'OUURVq', 'UURVqr', 'URVqrp', 'RVqrpL', 'MOUURVq', 'OUURVqr', 'UURVqrp', 'URVqrpL', 'MOUURVqr', 'OUURVqrp', 'UURVqrpL', 'MOUURVqrp', 'OUURVqrpL', 'MOUURVqrpL']\n"
     ]
    }
   ],
   "source": [
    "print(global_li)"
   ]
  },
  {
   "cell_type": "code",
   "execution_count": null,
   "metadata": {},
   "outputs": [],
   "source": []
  }
 ],
 "metadata": {
  "kernelspec": {
   "display_name": "Python 3",
   "language": "python",
   "name": "python3"
  },
  "language_info": {
   "codemirror_mode": {
    "name": "ipython",
    "version": 3
   },
   "file_extension": ".py",
   "mimetype": "text/x-python",
   "name": "python",
   "nbconvert_exporter": "python",
   "pygments_lexer": "ipython3",
   "version": "3.7.3"
  }
 },
 "nbformat": 4,
 "nbformat_minor": 2
}
