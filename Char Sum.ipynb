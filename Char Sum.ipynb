{
 "cells": [
  {
   "cell_type": "markdown",
   "metadata": {},
   "source": [
    "https://www.hackerearth.com/practice/basic-programming/input-output/basics-of-input-output/practice-problems/algorithm/char-sum-2d3a6ab5/"
   ]
  },
  {
   "cell_type": "code",
   "execution_count": 3,
   "metadata": {},
   "outputs": [],
   "source": [
    "map_alphabet = {}"
   ]
  },
  {
   "cell_type": "code",
   "execution_count": 4,
   "metadata": {},
   "outputs": [],
   "source": [
    "map_alphabet['a']=1\n",
    "map_alphabet['b']=2\n",
    "map_alphabet['c']=3\n",
    "map_alphabet['d']=4\n",
    "map_alphabet['e']=5\n",
    "map_alphabet['f']=6\n",
    "map_alphabet['g']=7\n",
    "map_alphabet['h']=8\n",
    "map_alphabet['i']=9\n",
    "map_alphabet['j']=10\n",
    "map_alphabet['k']=11\n",
    "map_alphabet['l']=12\n",
    "map_alphabet['m']=13\n",
    "map_alphabet['n']=14\n",
    "map_alphabet['o']=15\n",
    "map_alphabet['p']=16\n",
    "map_alphabet['q']=17\n",
    "map_alphabet['r']=18\n",
    "map_alphabet['s']=19\n",
    "map_alphabet['t']=20\n",
    "map_alphabet['u']=21\n",
    "map_alphabet['v']=22\n",
    "map_alphabet['w']=23\n",
    "map_alphabet['x']=24\n",
    "map_alphabet['y']=25\n",
    "map_alphabet['z']=26"
   ]
  },
  {
   "cell_type": "code",
   "execution_count": 8,
   "metadata": {},
   "outputs": [
    {
     "name": "stdout",
     "output_type": "stream",
     "text": [
      "abc\n",
      "6\n"
     ]
    }
   ],
   "source": [
    "s = input()\n",
    "char_sum= 0\n",
    "for char_iter in s:\n",
    "    char_sum+=map_alphabet[char_iter]\n",
    "print(char_sum)"
   ]
  },
  {
   "cell_type": "code",
   "execution_count": null,
   "metadata": {},
   "outputs": [],
   "source": []
  }
 ],
 "metadata": {
  "kernelspec": {
   "display_name": "Python 3",
   "language": "python",
   "name": "python3"
  },
  "language_info": {
   "codemirror_mode": {
    "name": "ipython",
    "version": 3
   },
   "file_extension": ".py",
   "mimetype": "text/x-python",
   "name": "python",
   "nbconvert_exporter": "python",
   "pygments_lexer": "ipython3",
   "version": "3.7.3"
  }
 },
 "nbformat": 4,
 "nbformat_minor": 2
}
