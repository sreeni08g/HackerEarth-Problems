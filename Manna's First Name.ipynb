{
 "cells": [
  {
   "cell_type": "markdown",
   "metadata": {},
   "source": [
    "# https://www.hackerearth.com/practice/algorithms/searching/linear-search/practice-problems/algorithm/mannas-first-name-4/"
   ]
  },
  {
   "cell_type": "code",
   "execution_count": 6,
   "metadata": {},
   "outputs": [
    {
     "name": "stdout",
     "output_type": "stream",
     "text": [
      "1\n",
      "suvo\n",
      "suvo\n",
      "SUVO =1, SUVOJIT =0\n"
     ]
    }
   ],
   "source": [
    "t=int(input())\n",
    "while(t>0):\n",
    "    t=t-1\n",
    "    s=input().lower()\n",
    "    cnt_suvo=0\n",
    "    cnt_suvojit=0\n",
    "    print(s)\n",
    "    for i in range(len(s)-3):\n",
    "        if(s[i]=='s' and s[i+1]=='u' and s[i+2]=='v' and s[i+3]=='o'):\n",
    "            cnt_suvo+=1\n",
    "    for i in range(len(s)-6):\n",
    "        if(s[i]=='s' and s[i+1]=='u' and s[i+2]=='v'  and s[i+3]=='o' and s[i+4]=='j' and s[i+5]=='i' and s[i+6]=='t'):\n",
    "            cnt_suvojit+=1\n",
    "    cnt_suvo=abs(cnt_suvo-cnt_suvojit)\n",
    "    print('SUVO = ',cnt_suvo,', SUVOJIT = ',cnt_suvojit,sep='')"
   ]
  },
  {
   "cell_type": "code",
   "execution_count": null,
   "metadata": {},
   "outputs": [],
   "source": []
  }
 ],
 "metadata": {
  "kernelspec": {
   "display_name": "Python 3",
   "language": "python",
   "name": "python3"
  },
  "language_info": {
   "codemirror_mode": {
    "name": "ipython",
    "version": 3
   },
   "file_extension": ".py",
   "mimetype": "text/x-python",
   "name": "python",
   "nbconvert_exporter": "python",
   "pygments_lexer": "ipython3",
   "version": "3.7.3"
  }
 },
 "nbformat": 4,
 "nbformat_minor": 2
}
