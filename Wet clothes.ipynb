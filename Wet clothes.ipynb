{
 "cells": [
  {
   "cell_type": "markdown",
   "metadata": {},
   "source": [
    "# https://www.hackerearth.com/practice/algorithms/searching/linear-search/practice-problems/algorithm/wet-clothes-625348cf/"
   ]
  },
  {
   "cell_type": "code",
   "execution_count": 6,
   "metadata": {},
   "outputs": [
    {
     "name": "stdout",
     "output_type": "stream",
     "text": [
      "100 100 1\n",
      "87 92 111 201 218 296 480 592 680 691 763 772 1006 1243 1556 1739 1847 1946 1995 2044 2051 2161 2397 2487 2531 2570 2606 2810 2839 2846 2989 3229 3235 3243 3569 3651 3662 3698 3903 3980 3984 4224 4365 4414 4580 4776 4842 4868 4887 4897 5147 5198 5244 5250 5427 5671 5672 5786 5808 5953 6069 6283 6413 6453 6488 6512 6576 6604 6620 6659 6719 6937 7045 7055 7069 7102 7190 7363 7411 7435 7439 7645 7673 7676 7681 7948 8062 8364 8614 9011 9117 9204 9227 9313 9561 9580 9647 9656 9829 9989\n",
      "7607 481 6816 7217 8028 3031 8301 770 6785 1834 7018 2115 2560 8659 6054 1234 6298 4624 6738 4411 6708 9665 4820 1988 6404 3405 6071 8674 5848 459 8362 7106 8575 1786 6493 2513 6654 6073 423 644 5052 367 2 7441 2198 6980 621 1732 1068 566 1993 8236 4018 5878 8733 9435 3568 8568 9507 4409 9475 4199 4872 8065 5241 3022 6671 5314 1113 624 9183 1295 4905 2960 3473 9072 9222 4762 723 5551 9488 5209 6743 5020 410 6750 372 6362 4014 4352 2468 2063 8520 4278 6421 8376 7590 3775 5800 6146\n",
      "1\n",
      "1\n",
      "1\n",
      "1\n",
      "1\n",
      "1\n",
      "1\n",
      "1\n",
      "1\n",
      "1\n",
      "1\n",
      "1\n",
      "1\n",
      "1\n",
      "1\n",
      "1\n",
      "1\n",
      "1\n",
      "1\n",
      "1\n",
      "1\n",
      "1\n",
      "1\n",
      "1\n",
      "1\n",
      "1\n",
      "1\n",
      "1\n",
      "1\n",
      "1\n",
      "1\n",
      "1\n",
      "1\n",
      "1\n",
      "1\n",
      "1\n",
      "1\n",
      "1\n",
      "1\n",
      "1\n",
      "1\n",
      "1\n",
      "1\n",
      "1\n",
      "1\n",
      "1\n",
      "1\n",
      "1\n",
      "1\n",
      "1\n",
      "1\n",
      "1\n",
      "1\n",
      "1\n",
      "1\n",
      "1\n",
      "1\n",
      "1\n",
      "1\n",
      "1\n",
      "1\n",
      "1\n",
      "1\n",
      "1\n",
      "1\n",
      "1\n",
      "1\n",
      "1\n",
      "1\n",
      "1\n",
      "1\n",
      "1\n",
      "1\n",
      "1\n",
      "1\n",
      "1\n",
      "1\n",
      "1\n",
      "1\n",
      "1\n",
      "1\n",
      "1\n",
      "1\n",
      "1\n",
      "1\n",
      "1\n",
      "1\n",
      "1\n",
      "3\n",
      "3\n",
      "3\n",
      "3\n",
      "3\n",
      "3\n",
      "3\n",
      "3\n",
      "3\n",
      "3\n",
      "3\n"
     ]
    }
   ],
   "source": [
    "n,m,g = map(int,input().split())\n",
    "li_time = list(map(int,input().split()))\n",
    "li_dry_time = list(map(int,input().split()))\n",
    "map_dry_time=[]\n",
    "for i in range(len(li_dry_time)):\n",
    "    map_dry_time.append(0)\n",
    "cnt=0\n",
    "max_diff=0\n",
    "for k in range(1,len(li_time)):\n",
    "    diff = li_time[k]-li_time[k-1]\n",
    "    if(max_diff<diff):\n",
    "        max_diff = diff\n",
    "flag_g=1\n",
    "for j in range(len(li_dry_time)):\n",
    "    if(li_dry_time[j]<=max_diff and map_dry_time[j]==0):\n",
    "        cnt+=1\n",
    "        map_dry_time[j]=1\n",
    "        flag_g=0\n",
    "print(cnt)"
   ]
  },
  {
   "cell_type": "code",
   "execution_count": 5,
   "metadata": {},
   "outputs": [
    {
     "name": "stdout",
     "output_type": "stream",
     "text": [
      "2\n"
     ]
    }
   ],
   "source": [
    "for i in li_dry_time:\n",
    "    if(i<=5):\n",
    "        print(i)"
   ]
  },
  {
   "cell_type": "code",
   "execution_count": null,
   "metadata": {},
   "outputs": [],
   "source": []
  }
 ],
 "metadata": {
  "kernelspec": {
   "display_name": "Python 3",
   "language": "python",
   "name": "python3"
  },
  "language_info": {
   "codemirror_mode": {
    "name": "ipython",
    "version": 3
   },
   "file_extension": ".py",
   "mimetype": "text/x-python",
   "name": "python",
   "nbconvert_exporter": "python",
   "pygments_lexer": "ipython3",
   "version": "3.7.3"
  }
 },
 "nbformat": 4,
 "nbformat_minor": 2
}
