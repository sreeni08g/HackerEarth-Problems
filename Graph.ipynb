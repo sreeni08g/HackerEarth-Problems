{
 "cells": [
  {
   "cell_type": "code",
   "execution_count": 9,
   "metadata": {},
   "outputs": [],
   "source": [
    "class Graph:\n",
    "    def __init__(self,numvertex):\n",
    "        self.numvertex=numvertex\n",
    "        self.matrix=[[-1]*numvertex for i in range(numvertex)]\n",
    "        self.vertices={}\n",
    "        self.verticeslist=[0]*numvertex\n",
    "    \n",
    "    def set_vertex(self,vtx,id1):\n",
    "        if(0<=vtx<=self.numvertex):\n",
    "            self.vertices[id1]=vtx\n",
    "            self.verticeslist[vtx]=id1\n",
    "    \n",
    "    def set_edge(self,fromVtx,toVtx,cost=0):\n",
    "        from_ind=self.vertices[fromVtx]\n",
    "        to_ind=self.vertices[toVtx]\n",
    "        self.matrix[from_ind][to_ind]=cost\n",
    "        self.matrix[to_ind][from_ind]=cost\n",
    "    \n",
    "    def get_edges(self):\n",
    "        edges=[]\n",
    "        for i in range(self.numvertex):\n",
    "            for j in range(self.numvertex):\n",
    "                if(self.matrix[i][j]!=-1):\n",
    "                    edges.append((self.verticeslist[i],self.verticeslist[j],self.matrix[i][j]))\n",
    "        return edges"
   ]
  },
  {
   "cell_type": "code",
   "execution_count": 10,
   "metadata": {},
   "outputs": [],
   "source": [
    "G =Graph(6)\n",
    "G.set_vertex(0,'a')\n",
    "G.set_vertex(1,'b')\n",
    "G.set_vertex(2,'c')\n",
    "G.set_vertex(3,'d')\n",
    "G.set_vertex(4,'e')\n",
    "G.set_vertex(5,'f')\n",
    "G.set_edge('a','e',10)\n",
    "G.set_edge('a','c',20)\n",
    "G.set_edge('c','b',30)\n",
    "G.set_edge('b','e',40)\n",
    "G.set_edge('e','d',50)\n",
    "G.set_edge('f','e',60)"
   ]
  },
  {
   "cell_type": "code",
   "execution_count": 11,
   "metadata": {},
   "outputs": [
    {
     "data": {
      "text/plain": [
       "[[-1, -1, 20, -1, 10, -1],\n",
       " [-1, -1, 30, -1, 40, -1],\n",
       " [20, 30, -1, -1, -1, -1],\n",
       " [-1, -1, -1, -1, 50, -1],\n",
       " [10, 40, -1, 50, -1, 60],\n",
       " [-1, -1, -1, -1, 60, -1]]"
      ]
     },
     "execution_count": 11,
     "metadata": {},
     "output_type": "execute_result"
    }
   ],
   "source": [
    "G.matrix"
   ]
  },
  {
   "cell_type": "code",
   "execution_count": 13,
   "metadata": {},
   "outputs": [
    {
     "data": {
      "text/plain": [
       "{'a': 0, 'b': 1, 'c': 2, 'd': 3, 'e': 4, 'f': 5}"
      ]
     },
     "execution_count": 13,
     "metadata": {},
     "output_type": "execute_result"
    }
   ],
   "source": [
    "G.vertices"
   ]
  },
  {
   "cell_type": "code",
   "execution_count": null,
   "metadata": {},
   "outputs": [],
   "source": []
  }
 ],
 "metadata": {
  "kernelspec": {
   "display_name": "Python 3",
   "language": "python",
   "name": "python3"
  },
  "language_info": {
   "codemirror_mode": {
    "name": "ipython",
    "version": 3
   },
   "file_extension": ".py",
   "mimetype": "text/x-python",
   "name": "python",
   "nbconvert_exporter": "python",
   "pygments_lexer": "ipython3",
   "version": "3.7.3"
  }
 },
 "nbformat": 4,
 "nbformat_minor": 2
}
