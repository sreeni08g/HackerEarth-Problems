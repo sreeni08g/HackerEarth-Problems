{
 "cells": [
  {
   "cell_type": "code",
   "execution_count": null,
   "metadata": {},
   "outputs": [],
   "source": []
  },
  {
   "cell_type": "code",
   "execution_count": 2,
   "metadata": {},
   "outputs": [
    {
     "name": "stdout",
     "output_type": "stream",
     "text": [
      "10 5\n",
      "abasas\n",
      "3 1\n",
      "9 2\n",
      "9 3\n",
      "3 4\n",
      "1 5\n",
      "2 6\n",
      "9 7\n",
      "3 8\n",
      "9 10\n",
      "{'1': ['5', '-1'], '3': ['1', '8'], '9': ['2', '10'], '2': ['6', '-1'], '4': ['-1', '-1'], '5': ['-1', '-1'], '6': ['-1', '-1'], '7': ['-1', '-1'], '8': ['-1', '-1'], '10': ['-1', '-1']}\n",
      "1 a\n",
      "1\n",
      "5\n",
      "1\n",
      "2 b\n",
      "2\n",
      "6\n",
      "1\n",
      "3 s\n",
      "3\n",
      "1\n",
      "5\n",
      "8\n",
      "3\n",
      "4 f\n",
      "4\n",
      "0\n",
      "5 e\n",
      "5\n",
      "0\n"
     ]
    }
   ],
   "source": [
    "def countNode(root):\n",
    "    print(root)\n",
    "    if(root not in tree):\n",
    "        return 0\n",
    "    elif(tree[root]==[\"-1\",\"-1\"]):\n",
    "        return 0\n",
    "    elif(\"-1\" in tree[root]):\n",
    "        if(tree[root][0]!=\"-1\"):\n",
    "            return (1+countNode(tree[root][0]))\n",
    "        else:\n",
    "            return (1+countNode(tree[root][1]))\n",
    "    elif(\"-1\" not in tree[root]):\n",
    "        return (2+countNode(tree[root][0])+countNode(tree[root][1]))\n",
    "        \n",
    "tree={\"1\":[\"-1\",\"-1\"]}\n",
    "n,q=map(int,input().split())\n",
    "s=input()\n",
    "for _ in range(n-1):\n",
    "    parent,child=input().split()\n",
    "    if(parent not in tree):\n",
    "        tree[parent]=[\"-1\",\"-1\"]\n",
    "    if(child not in tree):\n",
    "        tree[child]=[\"-1\",\"-1\"]\n",
    "    if(tree[parent][0]==\"-1\"):\n",
    "        tree[parent][0]=child\n",
    "    else:\n",
    "        tree[parent][1]=child\n",
    "print(tree)\n",
    "for _ in range(q):\n",
    "    u,v=input().split()\n",
    "    print(countNode(u))   "
   ]
  },
  {
   "cell_type": "code",
   "execution_count": null,
   "metadata": {},
   "outputs": [],
   "source": []
  }
 ],
 "metadata": {
  "kernelspec": {
   "display_name": "Python 3",
   "language": "python",
   "name": "python3"
  },
  "language_info": {
   "codemirror_mode": {
    "name": "ipython",
    "version": 3
   },
   "file_extension": ".py",
   "mimetype": "text/x-python",
   "name": "python",
   "nbconvert_exporter": "python",
   "pygments_lexer": "ipython3",
   "version": "3.7.3"
  }
 },
 "nbformat": 4,
 "nbformat_minor": 2
}
