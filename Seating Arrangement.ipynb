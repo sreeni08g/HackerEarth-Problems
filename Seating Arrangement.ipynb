{
 "cells": [
  {
   "cell_type": "markdown",
   "metadata": {},
   "source": [
    "problem link: https://www.hackerearth.com/practice/basic-programming/input-output/basics-of-input-output/practice-problems/algorithm/seating-arrangement-1/"
   ]
  },
  {
   "cell_type": "code",
   "execution_count": 1,
   "metadata": {},
   "outputs": [
    {
     "name": "stdout",
     "output_type": "stream",
     "text": [
      "1\n"
     ]
    }
   ],
   "source": [
    "n=int(input())"
   ]
  },
  {
   "cell_type": "code",
   "execution_count": 6,
   "metadata": {},
   "outputs": [
    {
     "name": "stdout",
     "output_type": "stream",
     "text": [
      "1\n",
      "34\n",
      "27 AS\n"
     ]
    }
   ],
   "source": [
    "ntest=int(input())\n",
    "for i in range(ntest):\n",
    "    seat=int(input())\n",
    "    if(seat%12 in [1,2,3,4,5,6]):\n",
    "        if(seat%6 in [1,2,3]):\n",
    "            if(seat%3==2):\n",
    "                print(seat+9,'MS')\n",
    "            elif(seat%6==0 or seat%6==1):\n",
    "                print(seat+11,'WS')\n",
    "            else:\n",
    "                print(seat+7,'AS')\n",
    "        else:\n",
    "            if(seat%3==2):\n",
    "                print(seat+3,'MS')\n",
    "            elif(seat%6==0 or seat%6==1):\n",
    "                print(seat+1,'WS')\n",
    "            else:\n",
    "                print(seat+5,'AS')\n",
    "    else:\n",
    "        if(seat%6 in [1,2,3]):\n",
    "            if(seat%3==2):\n",
    "                print(seat-3,'MS')\n",
    "            elif(seat%6==0 or seat%6==1):\n",
    "                print(seat-1,'WS')\n",
    "            else:\n",
    "                print(seat-5,'AS')\n",
    "        else:\n",
    "            if(seat%3==2):\n",
    "                print(seat-9,'MS')\n",
    "            elif(seat%6==0 or seat%6==1):\n",
    "                print(seat-11,'WS')\n",
    "            else:\n",
    "                print(seat-7,'AS')\n",
    "        \n",
    "            "
   ]
  },
  {
   "cell_type": "code",
   "execution_count": null,
   "metadata": {},
   "outputs": [],
   "source": []
  }
 ],
 "metadata": {
  "kernelspec": {
   "display_name": "Python 3",
   "language": "python",
   "name": "python3"
  },
  "language_info": {
   "codemirror_mode": {
    "name": "ipython",
    "version": 3
   },
   "file_extension": ".py",
   "mimetype": "text/x-python",
   "name": "python",
   "nbconvert_exporter": "python",
   "pygments_lexer": "ipython3",
   "version": "3.7.3"
  }
 },
 "nbformat": 4,
 "nbformat_minor": 2
}
