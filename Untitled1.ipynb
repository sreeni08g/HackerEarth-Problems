{
 "cells": [
  {
   "cell_type": "markdown",
   "metadata": {},
   "source": [
    "# "
   ]
  },
  {
   "cell_type": "code",
   "execution_count": 6,
   "metadata": {},
   "outputs": [
    {
     "name": "stdout",
     "output_type": "stream",
     "text": [
      "cherry@@@ is love, pondi!!!!.\n",
      "Pondicherry is love.\n",
      "{'c': 1, 'h': 1, 'e': 2, 'r': 2, 'y': 1, 'i': 2, 's': 1, 'l': 1, 'o': 2, 'v': 1, 'p': 1, 'n': 1, 'd': 1}\n",
      "NO\n",
      "{'c': 0, 'h': 0, 'e': 0, 'r': 0, 'y': 0, 'i': 0, 's': 0, 'l': 0, 'o': 0, 'v': 0, 'p': 1, 'n': 0, 'd': 0}\n"
     ]
    }
   ],
   "source": [
    "message = input()\n",
    "guess = input()\n",
    "di_msg={}\n",
    "for i in range(len(message)):\n",
    "    if(message[i].isalnum()):\n",
    "        if(message[i] not  in di_msg):\n",
    "            di_msg[message[i]]=1\n",
    "        else:\n",
    "            di_msg[message[i]]+=1\n",
    "\n",
    "print(di_msg)\n",
    "f=1\n",
    "for j in range(len(guess)):\n",
    "    if(guess[j].isalnum()):\n",
    "        if(guess[j] in di_msg):\n",
    "            if(guess[j]==0):\n",
    "                f=0\n",
    "                print('NO')\n",
    "                \n",
    "            else:\n",
    "                di_msg[guess[j]]-=1\n",
    "        \n",
    "        else:\n",
    "            f=0\n",
    "            print('NO')\n",
    "print(di_msg)\n",
    "if(f):\n",
    "    print('YES')"
   ]
  },
  {
   "cell_type": "code",
   "execution_count": null,
   "metadata": {},
   "outputs": [],
   "source": [
    "kabhi kabhi lagta hai apun hi bhagwan hai.\n",
    "my name is lakkhan.\n",
    "jogod #! siara.\n",
    "raja is good!"
   ]
  },
  {
   "cell_type": "code",
   "execution_count": 3,
   "metadata": {},
   "outputs": [],
   "source": [
    "a=['a','b','c','d']"
   ]
  },
  {
   "cell_type": "code",
   "execution_count": 7,
   "metadata": {},
   "outputs": [],
   "source": [
    "del(a[(a.index('a'))])"
   ]
  },
  {
   "cell_type": "code",
   "execution_count": 8,
   "metadata": {},
   "outputs": [
    {
     "data": {
      "text/plain": [
       "['b', 'c', 'd']"
      ]
     },
     "execution_count": 8,
     "metadata": {},
     "output_type": "execute_result"
    }
   ],
   "source": [
    "a"
   ]
  },
  {
   "cell_type": "code",
   "execution_count": null,
   "metadata": {},
   "outputs": [],
   "source": [
    "iter"
   ]
  }
 ],
 "metadata": {
  "kernelspec": {
   "display_name": "Python 3",
   "language": "python",
   "name": "python3"
  },
  "language_info": {
   "codemirror_mode": {
    "name": "ipython",
    "version": 3
   },
   "file_extension": ".py",
   "mimetype": "text/x-python",
   "name": "python",
   "nbconvert_exporter": "python",
   "pygments_lexer": "ipython3",
   "version": "3.7.3"
  }
 },
 "nbformat": 4,
 "nbformat_minor": 2
}
