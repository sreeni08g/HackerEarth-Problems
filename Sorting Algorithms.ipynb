{
 "cells": [
  {
   "cell_type": "code",
   "execution_count": 2,
   "metadata": {},
   "outputs": [],
   "source": [
    "def selectionSort(arr):\n",
    "    for i in range(len(arr)):\n",
    "        min_ind=i\n",
    "        for j in range(i+1,len(arr)):\n",
    "            if(arr[j]<arr[min_ind]):\n",
    "                min_ind=j\n",
    "        arr[i],arr[min_ind]=arr[min_ind],arr[i]\n",
    "    return arr"
   ]
  },
  {
   "cell_type": "code",
   "execution_count": 3,
   "metadata": {},
   "outputs": [
    {
     "data": {
      "text/plain": [
       "[2, 3, 4, 5, 51]"
      ]
     },
     "execution_count": 3,
     "metadata": {},
     "output_type": "execute_result"
    }
   ],
   "source": [
    "selectionSort([3,4,51,5,2])"
   ]
  },
  {
   "cell_type": "code",
   "execution_count": 4,
   "metadata": {},
   "outputs": [],
   "source": [
    "def bubbleSort(arr):\n",
    "    n=len(arr)\n",
    "    for i in range(n):\n",
    "        swapped=False\n",
    "        for j in range(0,n-1-i):\n",
    "            if(arr[j]>arr[j+1]):\n",
    "                swapped=True\n",
    "                arr[j],arr[j+1]=arr[j+1],arr[j]\n",
    "        if(swapped==False):\n",
    "            break\n",
    "    return arr"
   ]
  },
  {
   "cell_type": "code",
   "execution_count": 5,
   "metadata": {},
   "outputs": [
    {
     "data": {
      "text/plain": [
       "[2, 3, 4, 5, 51]"
      ]
     },
     "execution_count": 5,
     "metadata": {},
     "output_type": "execute_result"
    }
   ],
   "source": [
    "bubbleSort([3,4,51,5,2])"
   ]
  },
  {
   "cell_type": "code",
   "execution_count": 1,
   "metadata": {},
   "outputs": [],
   "source": [
    "def insertionSort(arr):\n",
    "    n=len(arr)\n",
    "    for i in range(1,n):\n",
    "        key=arr[i]\n",
    "        j=i-1\n",
    "        while(j>=0 and key<arr[j]):\n",
    "            arr[j+1]=arr[j]\n",
    "            j-=1\n",
    "        arr[j+1]=key\n",
    "    return arr"
   ]
  },
  {
   "cell_type": "code",
   "execution_count": 3,
   "metadata": {},
   "outputs": [
    {
     "data": {
      "text/plain": [
       "[0, 2, 3, 4, 5, 7, 51]"
      ]
     },
     "execution_count": 3,
     "metadata": {},
     "output_type": "execute_result"
    }
   ],
   "source": [
    "insertionSort([3,4,7,0,51,5,2])"
   ]
  },
  {
   "cell_type": "code",
   "execution_count": 24,
   "metadata": {},
   "outputs": [],
   "source": [
    "def mergeSort(arr):\n",
    "    print(arr)\n",
    "    if(len(arr)>1):\n",
    "        mid=int(len(arr)/2)\n",
    "        L=arr[:mid]\n",
    "        R=arr[mid:]\n",
    "        mergeSort(L)\n",
    "        mergeSort(R)\n",
    "        i=0\n",
    "        j=0\n",
    "        k=0\n",
    "        while(i<len(L) and j<len(R)):\n",
    "            if(L[i]<R[j]):\n",
    "                arr[k]=L[i]\n",
    "                i+=1\n",
    "                k+=1\n",
    "            else:\n",
    "                arr[k]=R[j]\n",
    "                j+=1\n",
    "                k+=1\n",
    "        while(i<len(L)):\n",
    "            arr[k]=L[i]\n",
    "            k+=1\n",
    "            i+=1\n",
    "        while(j<len(R)):\n",
    "            arr[k]=R[j]\n",
    "            k+=1\n",
    "            j+=1"
   ]
  },
  {
   "cell_type": "code",
   "execution_count": 3,
   "metadata": {},
   "outputs": [],
   "source": [
    "arr=[12,11,15,5,6,7]"
   ]
  },
  {
   "cell_type": "code",
   "execution_count": 26,
   "metadata": {},
   "outputs": [
    {
     "name": "stdout",
     "output_type": "stream",
     "text": [
      "[12, 11, 15, 5, 6, 7]\n",
      "[12, 11, 15]\n",
      "[12]\n",
      "[11, 15]\n",
      "[11]\n",
      "[15]\n",
      "[5, 6, 7]\n",
      "[5]\n",
      "[6, 7]\n",
      "[6]\n",
      "[7]\n"
     ]
    }
   ],
   "source": [
    "mergeSort(arr)"
   ]
  },
  {
   "cell_type": "code",
   "execution_count": 23,
   "metadata": {},
   "outputs": [],
   "source": [
    "def QuickSort(arr,l,r):\n",
    "    if(l<r):\n",
    "        pi=partition(arr,l,r)\n",
    "        print(\"pivot index\",pi)\n",
    "        QuickSort(arr,l,pi-1)\n",
    "        QuickSort(arr,pi+1,r)"
   ]
  },
  {
   "cell_type": "code",
   "execution_count": 24,
   "metadata": {},
   "outputs": [],
   "source": [
    "def partition(arr,l,h):\n",
    "    print(arr)\n",
    "    pivot=arr[h-1]\n",
    "    i=l-1\n",
    "    for j in range(l,h):\n",
    "        if(arr[j]<pivot):\n",
    "            i+=1\n",
    "            arr[i],arr[j]=arr[j],arr[i]\n",
    "    i+=1\n",
    "    arr[i],arr[h-1]=arr[h-1],arr[i]\n",
    "    return i"
   ]
  },
  {
   "cell_type": "code",
   "execution_count": 25,
   "metadata": {},
   "outputs": [
    {
     "name": "stdout",
     "output_type": "stream",
     "text": [
      "[12, 11, 15, 5, 6, 7]\n",
      "pivot index 2\n",
      "[5, 6, 7, 12, 11, 15]\n",
      "pivot index 0\n",
      "[5, 6, 7, 12, 11, 15]\n",
      "pivot index 5\n",
      "[5, 6, 7, 12, 11, 15]\n",
      "pivot index 3\n"
     ]
    }
   ],
   "source": [
    "QuickSort(arr,0,6)"
   ]
  },
  {
   "cell_type": "code",
   "execution_count": 38,
   "metadata": {},
   "outputs": [],
   "source": [
    "def mergeSort(arr,string):\n",
    "#     print(l,r)\n",
    "    if(len(arr)>1):\n",
    "        mid=int(len(arr)/2)\n",
    "        L=arr[:mid]\n",
    "        L1=string[:mid]\n",
    "        R=arr[mid:]\n",
    "        R1=string[mid:]\n",
    "        mergeSort(L,L1)\n",
    "        mergeSort(R,R1)\n",
    "        print(L,L1,R,R1)\n",
    "        i=0\n",
    "        j=0\n",
    "        k=0\n",
    "        while(i<len(L) and j<len(R)):\n",
    "            if(L[i]<=R[j]):\n",
    "                arr[k]=L[i]\n",
    "                string[k]=L1[i]\n",
    "                k+=1\n",
    "                i+=1\n",
    "            else:\n",
    "                arr[k]=R[j]\n",
    "                string[k]=R1[j]\n",
    "                k+=1\n",
    "                j+=1\n",
    "        while(i<len(L)):\n",
    "            arr[k]=L[i]\n",
    "            string[k]=L1[i]\n",
    "            k+=1\n",
    "            i+=1\n",
    "        while(j<len(R)):\n",
    "            string[k]=R1[j]\n",
    "            arr[k]=R[j]\n",
    "            k+=1\n",
    "            j+=1"
   ]
  },
  {
   "cell_type": "code",
   "execution_count": 19,
   "metadata": {},
   "outputs": [],
   "source": [
    "arr=[12,11,15,5,6,7]\n",
    "string=['j', 'ab', 'asd', 'cd', 'e', 'df', 'df']"
   ]
  },
  {
   "cell_type": "code",
   "execution_count": 20,
   "metadata": {},
   "outputs": [],
   "source": [
    "mergeSort(arr,string)"
   ]
  },
  {
   "cell_type": "code",
   "execution_count": 21,
   "metadata": {},
   "outputs": [
    {
     "data": {
      "text/plain": [
       "[5, 6, 7, 11, 12, 15]"
      ]
     },
     "execution_count": 21,
     "metadata": {},
     "output_type": "execute_result"
    }
   ],
   "source": [
    "arr"
   ]
  },
  {
   "cell_type": "code",
   "execution_count": 22,
   "metadata": {},
   "outputs": [
    {
     "data": {
      "text/plain": [
       "['j', 'ab', 'asd', 'cd', 'e', 'df', 'df']"
      ]
     },
     "execution_count": 22,
     "metadata": {},
     "output_type": "execute_result"
    }
   ],
   "source": [
    "string"
   ]
  },
  {
   "cell_type": "code",
   "execution_count": 39,
   "metadata": {},
   "outputs": [
    {
     "name": "stdout",
     "output_type": "stream",
     "text": [
      "[2] ['cd'] [1] ['e']\n",
      "[2] ['ab'] [1, 2] ['e', 'cd']\n",
      "[1] ['j'] [3] ['asd']\n",
      "[5] ['ljffg'] [2] ['df']\n",
      "[1, 3] ['j', 'asd'] [2, 5] ['df', 'ljffg']\n",
      "[1, 2, 2] ['e', 'ab', 'cd'] [1, 2, 3, 5] ['j', 'df', 'asd', 'ljffg']\n"
     ]
    }
   ],
   "source": [
    "arr=[2, 2, 1, 1, 3, 5, 2] \n",
    "string=['ab', 'cd', 'e', 'j', 'asd', 'ljffg', 'df']\n",
    "mergeSort(arr,string)"
   ]
  },
  {
   "cell_type": "code",
   "execution_count": 40,
   "metadata": {},
   "outputs": [
    {
     "data": {
      "text/plain": [
       "['e', 'j', 'ab', 'cd', 'df', 'asd', 'ljffg']"
      ]
     },
     "execution_count": 40,
     "metadata": {},
     "output_type": "execute_result"
    }
   ],
   "source": [
    "string"
   ]
  },
  {
   "cell_type": "code",
   "execution_count": null,
   "metadata": {},
   "outputs": [],
   "source": []
  }
 ],
 "metadata": {
  "kernelspec": {
   "display_name": "Python 3",
   "language": "python",
   "name": "python3"
  },
  "language_info": {
   "codemirror_mode": {
    "name": "ipython",
    "version": 3
   },
   "file_extension": ".py",
   "mimetype": "text/x-python",
   "name": "python",
   "nbconvert_exporter": "python",
   "pygments_lexer": "ipython3",
   "version": "3.7.3"
  }
 },
 "nbformat": 4,
 "nbformat_minor": 2
}
