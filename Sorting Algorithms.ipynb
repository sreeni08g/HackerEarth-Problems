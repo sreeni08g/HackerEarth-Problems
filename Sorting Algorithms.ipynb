{
 "cells": [
  {
   "cell_type": "code",
   "execution_count": 2,
   "metadata": {},
   "outputs": [],
   "source": [
    "def selectionSort(arr):\n",
    "    for i in range(len(arr)):\n",
    "        min_ind=i\n",
    "        for j in range(i+1,len(arr)):\n",
    "            if(arr[j]<arr[min_ind]):\n",
    "                min_ind=j\n",
    "        arr[i],arr[min_ind]=arr[min_ind],arr[i]\n",
    "    return arr"
   ]
  },
  {
   "cell_type": "code",
   "execution_count": 3,
   "metadata": {},
   "outputs": [
    {
     "data": {
      "text/plain": [
       "[2, 3, 4, 5, 51]"
      ]
     },
     "execution_count": 3,
     "metadata": {},
     "output_type": "execute_result"
    }
   ],
   "source": [
    "selectionSort([3,4,51,5,2])"
   ]
  },
  {
   "cell_type": "code",
   "execution_count": 4,
   "metadata": {},
   "outputs": [],
   "source": [
    "def bubbleSort(arr):\n",
    "    n=len(arr)\n",
    "    for i in range(n):\n",
    "        swapped=False\n",
    "        for j in range(0,n-1-i):\n",
    "            if(arr[j]>arr[j+1]):\n",
    "                swapped=True\n",
    "                arr[j],arr[j+1]=arr[j+1],arr[j]\n",
    "        if(swapped==False):\n",
    "            break\n",
    "    return arr"
   ]
  },
  {
   "cell_type": "code",
   "execution_count": 5,
   "metadata": {},
   "outputs": [
    {
     "data": {
      "text/plain": [
       "[2, 3, 4, 5, 51]"
      ]
     },
     "execution_count": 5,
     "metadata": {},
     "output_type": "execute_result"
    }
   ],
   "source": [
    "bubbleSort([3,4,51,5,2])"
   ]
  },
  {
   "cell_type": "code",
   "execution_count": null,
   "metadata": {},
   "outputs": [],
   "source": []
  }
 ],
 "metadata": {
  "kernelspec": {
   "display_name": "Python 3",
   "language": "python",
   "name": "python3"
  },
  "language_info": {
   "codemirror_mode": {
    "name": "ipython",
    "version": 3
   },
   "file_extension": ".py",
   "mimetype": "text/x-python",
   "name": "python",
   "nbconvert_exporter": "python",
   "pygments_lexer": "ipython3",
   "version": "3.7.3"
  }
 },
 "nbformat": 4,
 "nbformat_minor": 2
}
