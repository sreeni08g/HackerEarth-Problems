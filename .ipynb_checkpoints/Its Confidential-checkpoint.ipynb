{
 "cells": [
  {
   "cell_type": "markdown",
   "metadata": {},
   "source": [
    "https://www.hackerearth.com/practice/basic-programming/recursion/recursion-and-backtracking/practice-problems/algorithm/its-confidential-f006e2c4/description/"
   ]
  },
  {
   "cell_type": "code",
   "execution_count": 53,
   "metadata": {},
   "outputs": [
    {
     "name": "stdout",
     "output_type": "stream",
     "text": [
      "2\n",
      "abc\n",
      "bac\n",
      "abcd\n",
      "bacd\n"
     ]
    }
   ],
   "source": [
    "import math\n",
    "def middle_word(string, decrypted_string):\n",
    "    length = len(string)\n",
    "    if (length ==0):\n",
    "        return ''\n",
    "    middle_index = math.floor((length-1)/2)\n",
    "    decrypted_string += string[middle_index]\n",
    "    #print('ind=',middle_index, decrypted_string)\n",
    "    left_sub_string = middle_word(string[:middle_index], '')\n",
    "    right_sub_string = middle_word(string[middle_index+1:], '')\n",
    "    decrypted_string += left_sub_string\n",
    "    decrypted_string += right_sub_string\n",
    "    return decrypted_string\n",
    "input_length = int(input())\n",
    "for i in range(input_length):\n",
    "    a=input()\n",
    "    string = input()\n",
    "    print(middle_word(string,''))"
   ]
  },
  {
   "cell_type": "code",
   "execution_count": null,
   "metadata": {},
   "outputs": [],
   "source": []
  }
 ],
 "metadata": {
  "kernelspec": {
   "display_name": "Python 3",
   "language": "python",
   "name": "python3"
  },
  "language_info": {
   "codemirror_mode": {
    "name": "ipython",
    "version": 3
   },
   "file_extension": ".py",
   "mimetype": "text/x-python",
   "name": "python",
   "nbconvert_exporter": "python",
   "pygments_lexer": "ipython3",
   "version": "3.7.3"
  }
 },
 "nbformat": 4,
 "nbformat_minor": 2
}
