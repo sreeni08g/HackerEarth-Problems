{
 "cells": [
  {
   "cell_type": "code",
   "execution_count": null,
   "metadata": {},
   "outputs": [],
   "source": []
  },
  {
   "cell_type": "code",
   "execution_count": 32,
   "metadata": {},
   "outputs": [
    {
     "name": "stdout",
     "output_type": "stream",
     "text": [
      "1\n",
      "3\n",
      "3 4 5\n",
      "[[], [3], [3, 4], [3, 4, 5], [4], [4, 5], [5]]\n",
      "3\n",
      "4\n",
      "5\n",
      "12\n"
     ]
    }
   ],
   "source": [
    "def sub_lists(list1): \n",
    "  \n",
    "    # store all the sublists  \n",
    "    sublist = [[]] \n",
    "      \n",
    "    # first loop  \n",
    "    for i in range(len(list1) + 1): \n",
    "          \n",
    "        # second loop  \n",
    "        for j in range(i + 1, len(list1) + 1): \n",
    "              \n",
    "            # slice the subarray  \n",
    "            sub = list1[i:j] \n",
    "            sublist.append(sub) \n",
    "              \n",
    "      \n",
    "    return sublist \n",
    "\n",
    "    \n",
    "def solve (A,N):\n",
    "    # Write your code here\n",
    "    li = sub_lists(A)\n",
    "    print(li)\n",
    "    len_li = len(li)\n",
    "    cnt=0\n",
    "    for i in A:\n",
    "        cnt_present = 0\n",
    "        for j in range(len_li):\n",
    "            if (i in li[j]):\n",
    "                cnt_present+=1\n",
    "        if(i>=cnt_present):\n",
    "            print(i)\n",
    "            cnt+=i\n",
    "    print(cnt)\n",
    "    #return(cnt%(10**9+1))\n",
    "            \n",
    "T = int(input())\n",
    "for _ in range(T):\n",
    "    N = int(input())\n",
    "    A = list(map(int, input().split()))\n",
    "\n",
    "    out_ = solve(A,N)\n",
    "    #print (out_)"
   ]
  },
  {
   "cell_type": "code",
   "execution_count": null,
   "metadata": {},
   "outputs": [],
   "source": []
  }
 ],
 "metadata": {
  "kernelspec": {
   "display_name": "Python 3",
   "language": "python",
   "name": "python3"
  },
  "language_info": {
   "codemirror_mode": {
    "name": "ipython",
    "version": 3
   },
   "file_extension": ".py",
   "mimetype": "text/x-python",
   "name": "python",
   "nbconvert_exporter": "python",
   "pygments_lexer": "ipython3",
   "version": "3.7.3"
  }
 },
 "nbformat": 4,
 "nbformat_minor": 2
}
