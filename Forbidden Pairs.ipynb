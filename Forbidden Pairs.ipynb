{
 "cells": [
  {
   "cell_type": "markdown",
   "metadata": {},
   "source": [
    "https://www.hackerearth.com/practice/algorithms/greedy/basics-of-greedy-algorithms/practice-problems/algorithm/forbidden-pairs/"
   ]
  },
  {
   "cell_type": "code",
   "execution_count": 19,
   "metadata": {},
   "outputs": [
    {
     "name": "stdout",
     "output_type": "stream",
     "text": [
      "1010123101\n",
      "1\n",
      "10\n",
      "3\n"
     ]
    }
   ],
   "source": [
    "st=input()\n",
    "_=int(input())\n",
    "cnt=0\n",
    "for j in range(_):\n",
    "    #print(\"hi\")\n",
    "    bad_pair=input()\n",
    "    # print(bad_pair)\n",
    "    f=1\n",
    "    # print(\"44\",f)\n",
    "    while (f==1):\n",
    "        # print(\"hi\")\n",
    "        new_string=''\n",
    "        check=1\n",
    "        #print(f,check)\n",
    "        i=0\n",
    "        while(i<len(st)):\n",
    "            #print(i)\n",
    "            if(len(bad_pair)==1 and st[i]==bad_pair):\n",
    "                i=i+1\n",
    "                #print(\"****\")\n",
    "                continue\n",
    "            elif(st[i:i+2]==bad_pair):\n",
    "                cnt+=1\n",
    "                #print(\"%%%\")\n",
    "                check=0\n",
    "                new_string+=st[i]\n",
    "                i+=1\n",
    "            else:\n",
    "                new_string+=st[i]\n",
    "            i+=1\n",
    "        st=new_string\n",
    "        if(check):\n",
    "            f=0\n",
    "        \n",
    "    \n",
    "print(cnt)\n",
    "            "
   ]
  },
  {
   "cell_type": "code",
   "execution_count": 10,
   "metadata": {},
   "outputs": [
    {
     "name": "stdout",
     "output_type": "stream",
     "text": [
      "0\n",
      "1\n",
      "2\n",
      "3\n",
      "4\n"
     ]
    }
   ],
   "source": [
    "n=5\n",
    "for i in range(5):\n",
    "    print(i)\n",
    "    i=i+1"
   ]
  },
  {
   "cell_type": "code",
   "execution_count": null,
   "metadata": {},
   "outputs": [],
   "source": [
    " "
   ]
  }
 ],
 "metadata": {
  "kernelspec": {
   "display_name": "Python 3",
   "language": "python",
   "name": "python3"
  },
  "language_info": {
   "codemirror_mode": {
    "name": "ipython",
    "version": 3
   },
   "file_extension": ".py",
   "mimetype": "text/x-python",
   "name": "python",
   "nbconvert_exporter": "python",
   "pygments_lexer": "ipython3",
   "version": "3.7.3"
  }
 },
 "nbformat": 4,
 "nbformat_minor": 2
}
