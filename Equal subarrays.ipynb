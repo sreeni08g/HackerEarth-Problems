{
 "cells": [
  {
   "cell_type": "markdown",
   "metadata": {},
   "source": [
    "https://www.hackerearth.com/challenges/competitive/january-circuits-20/algorithm/equal-subarrays-cf01a26a/"
   ]
  },
  {
   "cell_type": "code",
   "execution_count": 2,
   "metadata": {},
   "outputs": [],
   "source": [
    "import math"
   ]
  },
  {
   "cell_type": "code",
   "execution_count": 18,
   "metadata": {},
   "outputs": [
    {
     "name": "stdout",
     "output_type": "stream",
     "text": [
      "5\n",
      "3\n",
      "1 4 9 3 6\n",
      "outside 3 1\n",
      "inside 3 1\n",
      "outside 2 1\n",
      "inside 2 1\n",
      "outside 4 2\n",
      "inside 4 2\n",
      "returna 2\n",
      "returna 2\n",
      "s None\n"
     ]
    }
   ],
   "source": [
    "def binary_search(arr,length,size,max_size,k):\n",
    "    print(\"outside\",size,max_size)\n",
    "    if(1<size<=length):\n",
    "        print(\"inside\",size,max_size)\n",
    "        t=size\n",
    "        for i in range(len(arr)-size+1):\n",
    "            sub=arr[i:i+size]\n",
    "            t=0\n",
    "            tmax=max(sub)\n",
    "            for l in range(len(sub)):\n",
    "                t+=(tmax-sub[l])\n",
    "                if(t>k):\n",
    "                    break\n",
    "            # print(t)\n",
    "            if(t<=k and len(sub)>max_size):\n",
    "                max_size=len(sub)\n",
    "                mid=math.ceil((size+length)/2)\n",
    "                maxi=binary_search(arr,length,mid,max_size,k)    \n",
    "                if(maxi>=max_size):\n",
    "                    max_size=maxi\n",
    "        if(max_size>1):\n",
    "            print(\"returna\",max_size)\n",
    "            return max_size\n",
    "        else:    \n",
    "            mid=math.ceil(size/2)\n",
    "            maxi=binary_search(arr,length,mid,max_size,k)\n",
    "            if(maxi>=max_size):\n",
    "                    max_size=maxi\n",
    "    else:\n",
    "        print(\"returnb\",max_size)\n",
    "        return max_size\n",
    "        \n",
    "n=int(input())\n",
    "k=int(input())\n",
    "arr=list(map(int,input().split()))\n",
    "max_size=1\n",
    "mid_length=math.ceil(n/2)\n",
    "print(\"s\",binary_search(arr,n,mid_length,max_size,k))\n"
   ]
  },
  {
   "cell_type": "code",
   "execution_count": 3,
   "metadata": {},
   "outputs": [],
   "source": [
    "arr=[1,2,3,4,5]"
   ]
  },
  {
   "cell_type": "code",
   "execution_count": 4,
   "metadata": {},
   "outputs": [
    {
     "data": {
      "text/plain": [
       "[1, 2, 3]"
      ]
     },
     "execution_count": 4,
     "metadata": {},
     "output_type": "execute_result"
    }
   ],
   "source": [
    "arr[0:3]"
   ]
  },
  {
   "cell_type": "code",
   "execution_count": null,
   "metadata": {},
   "outputs": [],
   "source": []
  },
  {
   "cell_type": "code",
   "execution_count": null,
   "metadata": {},
   "outputs": [],
   "source": []
  }
 ],
 "metadata": {
  "kernelspec": {
   "display_name": "Python 3",
   "language": "python",
   "name": "python3"
  },
  "language_info": {
   "codemirror_mode": {
    "name": "ipython",
    "version": 3
   },
   "file_extension": ".py",
   "mimetype": "text/x-python",
   "name": "python",
   "nbconvert_exporter": "python",
   "pygments_lexer": "ipython3",
   "version": "3.7.3"
  }
 },
 "nbformat": 4,
 "nbformat_minor": 2
}
