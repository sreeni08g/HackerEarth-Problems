{
 "cells": [
  {
   "cell_type": "code",
   "execution_count": null,
   "metadata": {},
   "outputs": [],
   "source": []
  },
  {
   "cell_type": "code",
   "execution_count": 32,
   "metadata": {},
   "outputs": [
    {
     "name": "stdout",
     "output_type": "stream",
     "text": [
      "1\n",
      "3\n",
      "3 4 5\n",
      "[[], [3], [3, 4], [3, 4, 5], [4], [4, 5], [5]]\n",
      "3\n",
      "4\n",
      "5\n",
      "12\n"
     ]
    }
   ],
   "source": [
    "def sub_lists(list1): \n",
    "  \n",
    "    # store all the sublists  \n",
    "    sublist = [[]] \n",
    "      \n",
    "    # first loop  \n",
    "    for i in range(len(list1) + 1): \n",
    "          \n",
    "        # second loop  \n",
    "        for j in range(i + 1, len(list1) + 1): \n",
    "              \n",
    "            # slice the subarray  \n",
    "            sub = list1[i:j] \n",
    "            sublist.append(sub) \n",
    "              \n",
    "      \n",
    "    return sublist \n",
    "\n",
    "    \n",
    "def solve (A,N):\n",
    "    # Write your code here\n",
    "    li = sub_lists(A)\n",
    "    print(li)\n",
    "    len_li = len(li)\n",
    "    cnt=0\n",
    "    for i in A:\n",
    "        cnt_present = 0\n",
    "        for j in range(len_li):\n",
    "            if (i in li[j]):\n",
    "                cnt_present+=1\n",
    "        if(i>=cnt_present):\n",
    "            print(i)\n",
    "            cnt+=i\n",
    "    print(cnt)\n",
    "    #return(cnt%(10**9+1))\n",
    "            \n",
    "T = int(input())\n",
    "for _ in range(T):\n",
    "    N = int(input())\n",
    "    A = list(map(int, input().split()))\n",
    "\n",
    "    out_ = solve(A,N)\n",
    "    #print (out_)"
   ]
  },
  {
   "cell_type": "code",
   "execution_count": 17,
   "metadata": {},
   "outputs": [],
   "source": [
    "def subsetsUtil(A, subset, index): \n",
    "    print(subset) \n",
    "    for i in range(index, len(A)):  \n",
    "          \n",
    "        # include the A[i] in subset.  \n",
    "        subset.append(A[i]) \n",
    "          \n",
    "        # move onto the next element.  \n",
    "        subsetsUtil(A,subset, i + 1)  \n",
    "          \n",
    "        # exclude the A[i] from subset and  \n",
    "        # triggers backtracking. \n",
    "        subset.pop(-1)  \n",
    "    return"
   ]
  },
  {
   "cell_type": "code",
   "execution_count": 18,
   "metadata": {},
   "outputs": [
    {
     "name": "stdout",
     "output_type": "stream",
     "text": [
      "[]\n",
      "[1]\n",
      "[1, 2]\n",
      "[2]\n"
     ]
    }
   ],
   "source": [
    "def subsets(A): \n",
    "    global res \n",
    "    subset = [] \n",
    "      \n",
    "    # keeps track of current element in vector A  \n",
    "    index = 0\n",
    "    subsetsUtil(A, subset, index)  \n",
    "      \n",
    "# Driver Code \n",
    "  \n",
    "# find the subsets of below vector.  \n",
    "array = [1, 2] \n",
    "  \n",
    "# res will store all subsets.  \n",
    "# O(2 ^ (number of elements inside array))  \n",
    "# because at every step we have two choices  \n",
    "# either include or ignore.  \n",
    "subsets(array)  "
   ]
  },
  {
   "cell_type": "code",
   "execution_count": 9,
   "metadata": {},
   "outputs": [],
   "source": [
    "b =[1]"
   ]
  },
  {
   "cell_type": "code",
   "execution_count": 20,
   "metadata": {},
   "outputs": [
    {
     "ename": "IndexError",
     "evalue": "pop from empty list",
     "output_type": "error",
     "traceback": [
      "\u001b[0;31m---------------------------------------------------------------------------\u001b[0m",
      "\u001b[0;31mIndexError\u001b[0m                                Traceback (most recent call last)",
      "\u001b[0;32m<ipython-input-20-dbcc8a6fbfdf>\u001b[0m in \u001b[0;36m<module>\u001b[0;34m\u001b[0m\n\u001b[0;32m----> 1\u001b[0;31m \u001b[0mb\u001b[0m\u001b[0;34m.\u001b[0m\u001b[0mpop\u001b[0m\u001b[0;34m(\u001b[0m\u001b[0;34m-\u001b[0m\u001b[0;36m1\u001b[0m\u001b[0;34m)\u001b[0m\u001b[0;34m\u001b[0m\u001b[0;34m\u001b[0m\u001b[0m\n\u001b[0m",
      "\u001b[0;31mIndexError\u001b[0m: pop from empty list"
     ]
    }
   ],
   "source": [
    "b.pop(-1)"
   ]
  },
  {
   "cell_type": "code",
   "execution_count": 1,
   "metadata": {},
   "outputs": [],
   "source": [
    "s='abc'"
   ]
  },
  {
   "cell_type": "code",
   "execution_count": 3,
   "metadata": {},
   "outputs": [],
   "source": [
    "s =s[1:]"
   ]
  },
  {
   "cell_type": "code",
   "execution_count": 13,
   "metadata": {},
   "outputs": [
    {
     "data": {
      "text/plain": [
       "'bc'"
      ]
     },
     "execution_count": 13,
     "metadata": {},
     "output_type": "execute_result"
    }
   ],
   "source": [
    "s\n"
   ]
  },
  {
   "cell_type": "code",
   "execution_count": 14,
   "metadata": {},
   "outputs": [
    {
     "data": {
      "text/plain": [
       "''"
      ]
     },
     "execution_count": 14,
     "metadata": {},
     "output_type": "execute_result"
    }
   ],
   "source": [
    "s[:0]"
   ]
  },
  {
   "cell_type": "code",
   "execution_count": 12,
   "metadata": {},
   "outputs": [
    {
     "name": "stdout",
     "output_type": "stream",
     "text": [
      "5\n",
      "2\n"
     ]
    }
   ],
   "source": [
    "n=5\n",
    "i=0\n",
    "while(i<n):\n",
    "    print(n)\n",
    "    i+=1\n",
    "    n=2"
   ]
  },
  {
   "cell_type": "code",
   "execution_count": null,
   "metadata": {},
   "outputs": [],
   "source": []
  }
 ],
 "metadata": {
  "kernelspec": {
   "display_name": "Python 3",
   "language": "python",
   "name": "python3"
  },
  "language_info": {
   "codemirror_mode": {
    "name": "ipython",
    "version": 3
   },
   "file_extension": ".py",
   "mimetype": "text/x-python",
   "name": "python",
   "nbconvert_exporter": "python",
   "pygments_lexer": "ipython3",
   "version": "3.7.3"
  }
 },
 "nbformat": 4,
 "nbformat_minor": 2
}
