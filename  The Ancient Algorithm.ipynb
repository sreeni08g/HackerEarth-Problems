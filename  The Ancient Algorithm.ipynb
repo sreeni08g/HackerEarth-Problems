{
 "cells": [
  {
   "cell_type": "markdown",
   "metadata": {},
   "source": [
    "https://www.hackerearth.com/practice/algorithms/greedy/basics-of-greedy-algorithms/practice-problems/algorithm/the-ancient-algorithm/"
   ]
  },
  {
   "cell_type": "code",
   "execution_count": 47,
   "metadata": {},
   "outputs": [
    {
     "name": "stdout",
     "output_type": "stream",
     "text": [
      "1\n",
      "6\n",
      "87 44 61 45 73 83\n",
      "10 55 18\n",
      "MRMARR\n",
      "*** [15, 8, 7, 9, 1, 11]\n",
      "15 *** [15, 11, 1, 9, 7, 8]\n",
      "11 *** [15, 11, 1, 9, 7, 8]\n",
      "1 *** [15, 11, 1, 1, 17, 0]\n",
      "1 *** [15, 11, 1, 1, 0, 17]\n",
      "0 *** [15, 11, 1, 1, 0, 17]\n",
      "17 \n",
      "\n"
     ]
    }
   ],
   "source": [
    "_=int(input())\n",
    "for _ in range(_):\n",
    "    n=int(input())\n",
    "    arr=list(map(int,input().split()))\n",
    "    a,b,c=map(int,input().split())\n",
    "    s=input()\n",
    "    for i in range(n):\n",
    "        if(s[i]=='R'):\n",
    "            start=i\n",
    "            end=n-1\n",
    "            while(start<=end):\n",
    "                temp=arr[start]\n",
    "                arr[start]=arr[end]\n",
    "                arr[end]=temp\n",
    "                start=start+1\n",
    "                end=end-1\n",
    "        elif(s[i]=='A'):\n",
    "            for k in range(i,n):\n",
    "                arr[k]=arr[k]+a\n",
    "        elif(s[i]=='M'):\n",
    "            for k in range(i,n):\n",
    "                #print(arr[k]*b)\n",
    "                arr[k]=arr[k]*b\n",
    "        for k in range(i,n):\n",
    "            arr[k]=arr[k]%c\n",
    "        #print(\"***\",arr)\n",
    "        print(arr[i],end=' ')\n",
    "    print('\\n')"
   ]
  },
  {
   "cell_type": "code",
   "execution_count": 39,
   "metadata": {},
   "outputs": [],
   "source": [
    "arr=[1,2,3,4,5]"
   ]
  },
  {
   "cell_type": "code",
   "execution_count": 44,
   "metadata": {},
   "outputs": [],
   "source": [
    "arr.reverse()"
   ]
  },
  {
   "cell_type": "code",
   "execution_count": 46,
   "metadata": {},
   "outputs": [
    {
     "data": {
      "text/plain": [
       "[]"
      ]
     },
     "execution_count": 46,
     "metadata": {},
     "output_type": "execute_result"
    }
   ],
   "source": [
    "arr[2:4:-1]"
   ]
  },
  {
   "cell_type": "code",
   "execution_count": null,
   "metadata": {},
   "outputs": [],
   "source": []
  }
 ],
 "metadata": {
  "kernelspec": {
   "display_name": "Python 3",
   "language": "python",
   "name": "python3"
  },
  "language_info": {
   "codemirror_mode": {
    "name": "ipython",
    "version": 3
   },
   "file_extension": ".py",
   "mimetype": "text/x-python",
   "name": "python",
   "nbconvert_exporter": "python",
   "pygments_lexer": "ipython3",
   "version": "3.7.3"
  }
 },
 "nbformat": 4,
 "nbformat_minor": 2
}
