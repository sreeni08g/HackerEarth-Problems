{
 "cells": [
  {
   "cell_type": "markdown",
   "metadata": {},
   "source": [
    "https://www.hackerearth.com/practice/algorithms/greedy/basics-of-greedy-algorithms/practice-problems/algorithm/protect-the-cities/"
   ]
  },
  {
   "cell_type": "code",
   "execution_count": 9,
   "metadata": {},
   "outputs": [
    {
     "name": "stdout",
     "output_type": "stream",
     "text": [
      "1\n",
      "3\n",
      "1 0\n",
      "-4 -2\n",
      "6 0\n",
      "{'q1': 2, 'q3': 1} 6 2\n",
      "144\n"
     ]
    }
   ],
   "source": [
    "_=int(input())\n",
    "for _ in range(_):\n",
    "    n=int(input())\n",
    "    di={}\n",
    "    x_max=0\n",
    "    y_max=0\n",
    "    side=0\n",
    "    for i in range(n):\n",
    "        x,y=map(int,input().split())\n",
    "        #print(x,y,abs(x),abs(y))\n",
    "        if(abs(x)>x_max):\n",
    "            x_max=abs(x)\n",
    "        if(abs(y)>y_max):\n",
    "            y_max=abs(y)\n",
    "        if(x>=0 and y>=0):\n",
    "            if('q1' not in di):\n",
    "                di['q1']=1\n",
    "            else:\n",
    "                di['q1']+=1\n",
    "        elif(x<=0 and y>=0):\n",
    "            if('q2' not in di):\n",
    "                di['q2']=1\n",
    "            else:\n",
    "                di['q2']+=1\n",
    "        elif(x<=0 and y<=0):\n",
    "            if('q3' not in di):\n",
    "                di['q3']=1\n",
    "            else:\n",
    "                di['q3']+=1\n",
    "        elif(x>=0 and y<=0):\n",
    "            if('q4' not in di):\n",
    "                di['q4']=1\n",
    "            else:\n",
    "                di['q4']+=1\n",
    "    #print(di,x_max,y_max)\n",
    "    if(len(di)==1):\n",
    "        side=max([x_max,y_max])\n",
    "    elif(len(di)==2):\n",
    "        if(('q1' in di and 'q4'in di) or ('q2' in di and 'q3' in di)):\n",
    "            side=max([x_max,y_max])\n",
    "        else:\n",
    "            side=2*max([x_max,y_max])\n",
    "    else:\n",
    "        side=2*max([x_max,y_max])\n",
    "    print(side*side)"
   ]
  },
  {
   "cell_type": "code",
   "execution_count": 5,
   "metadata": {},
   "outputs": [
    {
     "data": {
      "text/plain": [
       "2"
      ]
     },
     "execution_count": 5,
     "metadata": {},
     "output_type": "execute_result"
    }
   ],
   "source": [
    "abs(-2)"
   ]
  },
  {
   "cell_type": "code",
   "execution_count": null,
   "metadata": {},
   "outputs": [],
   "source": []
  }
 ],
 "metadata": {
  "kernelspec": {
   "display_name": "Python 3",
   "language": "python",
   "name": "python3"
  },
  "language_info": {
   "codemirror_mode": {
    "name": "ipython",
    "version": 3
   },
   "file_extension": ".py",
   "mimetype": "text/x-python",
   "name": "python",
   "nbconvert_exporter": "python",
   "pygments_lexer": "ipython3",
   "version": "3.7.3"
  }
 },
 "nbformat": 4,
 "nbformat_minor": 2
}
