{
 "cells": [
  {
   "cell_type": "markdown",
   "metadata": {},
   "source": [
    "# https://www.hackerearth.com/challenges/competitive/october-circuits-19/algorithm/ap-1-f43562f4/"
   ]
  },
  {
   "cell_type": "code",
   "execution_count": 23,
   "metadata": {},
   "outputs": [
    {
     "name": "stdout",
     "output_type": "stream",
     "text": [
      "5 1\n",
      "-1 -1 -1 -1 -1\n",
      "1 3 1\n",
      "[0, 0]\n",
      "[1]\n",
      "1\n"
     ]
    }
   ],
   "source": [
    "n,q=map(int,input().split())\n",
    "arr = list(map(int,input().split()))\n",
    "for i in range(q):\n",
    "    l,r,d=map(int,input().split())\n",
    "    new_arr=arr[l-1:r]\n",
    "    diff_arr = []\n",
    "    for k in range(1,len(new_arr)):\n",
    "        diff_arr.append(new_arr[k]-new_arr[k-1])\n",
    "    print(diff_arr)\n",
    "    length_arr=[]\n",
    "    length_arr.append(1)\n",
    "    for a in range(len(diff_arr)):\n",
    "        if(diff_arr[a]==d):\n",
    "            #print(a)\n",
    "            for b in range(a+1,len(diff_arr)):\n",
    "                if(diff_arr[b]!=d ):\n",
    "                    #print(a,b)\n",
    "                    length_arr.append(b-a+1)\n",
    "                    break\n",
    "                elif(b==len(diff_arr)-1):\n",
    "                    length_arr.append(b-a+2)\n",
    "                    break\n",
    "    \n",
    "    print(length_arr)\n",
    "    print(max(length_arr))"
   ]
  },
  {
   "cell_type": "code",
   "execution_count": null,
   "metadata": {},
   "outputs": [],
   "source": []
  }
 ],
 "metadata": {
  "kernelspec": {
   "display_name": "Python 3",
   "language": "python",
   "name": "python3"
  },
  "language_info": {
   "codemirror_mode": {
    "name": "ipython",
    "version": 3
   },
   "file_extension": ".py",
   "mimetype": "text/x-python",
   "name": "python",
   "nbconvert_exporter": "python",
   "pygments_lexer": "ipython3",
   "version": "3.7.3"
  }
 },
 "nbformat": 4,
 "nbformat_minor": 2
}
