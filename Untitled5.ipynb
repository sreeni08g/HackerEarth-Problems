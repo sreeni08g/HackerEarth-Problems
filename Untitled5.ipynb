{
 "cells": [
  {
   "cell_type": "code",
   "execution_count": 1,
   "metadata": {},
   "outputs": [],
   "source": [
    "def isBalanced(s):\n",
    "    stack=[]\n",
    "    for i in range(len(s)):\n",
    "        # print(stack)\n",
    "        if(s[i] in ['(','{','[']):\n",
    "            stack.append(s[i])\n",
    "        elif(stack[-1]=='(' and s[i]==')'):\n",
    "            del(stack[-1])\n",
    "        elif(stack[-1]=='{' and s[i]=='}'):\n",
    "            del(stack[-1])\n",
    "        elif(stack[-1]=='[' and s[i]==']'):\n",
    "            del(stack[-1])\n",
    "        else:\n",
    "            return \"NO\"\n",
    "    if(stack==[]):\n",
    "        return \"YES\"\n",
    "    else:\n",
    "        return \"NO\""
   ]
  },
  {
   "cell_type": "code",
   "execution_count": 4,
   "metadata": {},
   "outputs": [
    {
     "data": {
      "text/plain": [
       "'YES'"
      ]
     },
     "execution_count": 4,
     "metadata": {},
     "output_type": "execute_result"
    }
   ],
   "source": [
    "isBalanced('({}([][]))[]()')"
   ]
  },
  {
   "cell_type": "code",
   "execution_count": null,
   "metadata": {},
   "outputs": [],
   "source": []
  }
 ],
 "metadata": {
  "kernelspec": {
   "display_name": "Python 3",
   "language": "python",
   "name": "python3"
  },
  "language_info": {
   "codemirror_mode": {
    "name": "ipython",
    "version": 3
   },
   "file_extension": ".py",
   "mimetype": "text/x-python",
   "name": "python",
   "nbconvert_exporter": "python",
   "pygments_lexer": "ipython3",
   "version": "3.7.3"
  }
 },
 "nbformat": 4,
 "nbformat_minor": 2
}
