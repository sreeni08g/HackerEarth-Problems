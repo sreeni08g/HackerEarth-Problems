{
 "cells": [
  {
   "cell_type": "markdown",
   "metadata": {},
   "source": [
    "# https://www.hackerearth.com/challenges/competitive/october-circuits-19/algorithm/fact-count-a6300182/"
   ]
  },
  {
   "cell_type": "code",
   "execution_count": 25,
   "metadata": {},
   "outputs": [
    {
     "name": "stdout",
     "output_type": "stream",
     "text": [
      "1\n",
      "3\n",
      "3 4 7\n",
      "2\n"
     ]
    }
   ],
   "source": [
    "import math\n",
    "def checkPrime(n):\n",
    "    flagPrime =1\n",
    "    if(n<=3):\n",
    "        return flagPrime \n",
    "    if(n%3==0):\n",
    "        flagPrime = 0\n",
    "        return flagPrime\n",
    "    i=5\n",
    "    while(i * i <= n) :  \n",
    "        if (n % i == 0 or n % (i + 2) == 0) :  \n",
    "            flagPrime = 0\n",
    "            return flagPrime\n",
    "        i = i + 6\n",
    "    return flagPrime\n",
    "_ = int(input())\n",
    "for i in range(_):\n",
    "    n = int(input())\n",
    "    li = list(map(int,input().split()))\n",
    "    cnt=0\n",
    "    for ele in li:\n",
    "        if(ele==1):\n",
    "            cnt+=1\n",
    "            \n",
    "        elif(ele%2!=0):\n",
    "            cnt+=checkPrime(ele)\n",
    "    print(cnt)"
   ]
  },
  {
   "cell_type": "code",
   "execution_count": 21,
   "metadata": {},
   "outputs": [],
   "source": [
    "def checkPrime(n):\n",
    "    flagPrime =1\n",
    "    for i in range(2,int(math.ceil(math.sqrt(n)+1))):\n",
    "        if(n%i==0):\n",
    "            flagPrime = 0\n",
    "            return flagPrime\n",
    "    return flagPrime"
   ]
  },
  {
   "cell_type": "code",
   "execution_count": 24,
   "metadata": {},
   "outputs": [
    {
     "data": {
      "text/plain": [
       "0"
      ]
     },
     "execution_count": 24,
     "metadata": {},
     "output_type": "execute_result"
    }
   ],
   "source": [
    "checkPrime(24)"
   ]
  },
  {
   "cell_type": "code",
   "execution_count": 20,
   "metadata": {},
   "outputs": [
    {
     "data": {
      "text/plain": [
       "3"
      ]
     },
     "execution_count": 20,
     "metadata": {},
     "output_type": "execute_result"
    }
   ],
   "source": [
    "math.ceil(math.sqrt(9))"
   ]
  },
  {
   "cell_type": "code",
   "execution_count": 26,
   "metadata": {},
   "outputs": [],
   "source": [
    "def checkPrime(n):\n",
    "    flagPrime =1\n",
    "    if(n%3==0):\n",
    "        flagPrime = 0\n",
    "        return flagPrime\n",
    "    i=5\n",
    "    while(i * i <= n) :  \n",
    "        if (n % i == 0 or n % (i + 2) == 0) :  \n",
    "            flagPrime = 0\n",
    "            return flagPrime\n",
    "        i = i + 6\n",
    "    return flagPrime"
   ]
  },
  {
   "cell_type": "code",
   "execution_count": 28,
   "metadata": {},
   "outputs": [
    {
     "data": {
      "text/plain": [
       "1"
      ]
     },
     "execution_count": 28,
     "metadata": {},
     "output_type": "execute_result"
    }
   ],
   "source": [
    "checkPrime(7)"
   ]
  },
  {
   "cell_type": "code",
   "execution_count": null,
   "metadata": {},
   "outputs": [],
   "source": []
  }
 ],
 "metadata": {
  "kernelspec": {
   "display_name": "Python 3",
   "language": "python",
   "name": "python3"
  },
  "language_info": {
   "codemirror_mode": {
    "name": "ipython",
    "version": 3
   },
   "file_extension": ".py",
   "mimetype": "text/x-python",
   "name": "python",
   "nbconvert_exporter": "python",
   "pygments_lexer": "ipython3",
   "version": "3.7.3"
  }
 },
 "nbformat": 4,
 "nbformat_minor": 2
}
