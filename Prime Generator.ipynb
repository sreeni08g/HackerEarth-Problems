{
 "cells": [
  {
   "cell_type": "markdown",
   "metadata": {},
   "source": [
    "https://www.spoj.com/problems/PRIME1/"
   ]
  },
  {
   "cell_type": "code",
   "execution_count": 2,
   "metadata": {},
   "outputs": [
    {
     "name": "stdout",
     "output_type": "stream",
     "text": [
      "1\n",
      "2 9\n",
      "2\n",
      "3\n",
      "5\n",
      "7\n"
     ]
    }
   ],
   "source": [
    "import math\n",
    "def check_prime(number):\n",
    "\tflag=True\n",
    "\tfor i in range(2,int(math.sqrt(number))+1):\n",
    "\t\tif(number%i==0):\n",
    "\t\t\tflag=False\n",
    "\t\t\treturn flag\n",
    "\treturn flag\n",
    " \n",
    "t=int(input())\n",
    "for _ in range(t):\n",
    "\tstart,end=map(int,input().split())\n",
    "\tfor i in range(start,end+1):\n",
    "\t\tif(check_prime(i)):\n",
    "\t\t\tprint(i)"
   ]
  },
  {
   "cell_type": "code",
   "execution_count": null,
   "metadata": {},
   "outputs": [],
   "source": []
  }
 ],
 "metadata": {
  "kernelspec": {
   "display_name": "Python 3",
   "language": "python",
   "name": "python3"
  },
  "language_info": {
   "codemirror_mode": {
    "name": "ipython",
    "version": 3
   },
   "file_extension": ".py",
   "mimetype": "text/x-python",
   "name": "python",
   "nbconvert_exporter": "python",
   "pygments_lexer": "ipython3",
   "version": "3.7.3"
  }
 },
 "nbformat": 4,
 "nbformat_minor": 2
}
