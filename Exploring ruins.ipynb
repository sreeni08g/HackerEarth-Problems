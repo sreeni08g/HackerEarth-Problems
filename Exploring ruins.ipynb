{
 "cells": [
  {
   "cell_type": "markdown",
   "metadata": {},
   "source": [
    "https://www.hackerearth.com/practice/algorithms/greedy/basics-of-greedy-algorithms/practice-problems/algorithm/exploring-ruins/"
   ]
  },
  {
   "cell_type": "code",
   "execution_count": 4,
   "metadata": {},
   "outputs": [
    {
     "name": "stdout",
     "output_type": "stream",
     "text": [
      "??????????\n",
      "ababababab\n"
     ]
    }
   ],
   "source": [
    "s=input()\n",
    "str_li=''\n",
    "if(len(s)==1):\n",
    "    print('a')\n",
    "else:\n",
    "    for i in range(len(s)):\n",
    "        if(s[i]=='?'):\n",
    "            if(i==0):\n",
    "                if(s[i+1] in ['b','?']):\n",
    "                    str_li+='a'\n",
    "                else:\n",
    "                    str_li+='b'\n",
    "            elif(i==len(s)-1):\n",
    "                if(str_li[i-1]=='b'):\n",
    "                    str_li+='a'\n",
    "                else:\n",
    "                    str_li+='b'\n",
    "            else:\n",
    "                if(str_li[i-1]=='b' and s[i+1] in ['b','?']):\n",
    "                    str_li+='a'\n",
    "                else:\n",
    "                    str_li+='b'\n",
    "        else:\n",
    "            str_li+=s[i]\n",
    "    print(str_li)\n",
    "            "
   ]
  },
  {
   "cell_type": "code",
   "execution_count": null,
   "metadata": {},
   "outputs": [],
   "source": []
  }
 ],
 "metadata": {
  "kernelspec": {
   "display_name": "Python 3",
   "language": "python",
   "name": "python3"
  },
  "language_info": {
   "codemirror_mode": {
    "name": "ipython",
    "version": 3
   },
   "file_extension": ".py",
   "mimetype": "text/x-python",
   "name": "python",
   "nbconvert_exporter": "python",
   "pygments_lexer": "ipython3",
   "version": "3.7.3"
  }
 },
 "nbformat": 4,
 "nbformat_minor": 2
}
