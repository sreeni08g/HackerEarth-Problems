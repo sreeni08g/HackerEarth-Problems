{
 "cells": [
  {
   "cell_type": "code",
   "execution_count": 1,
   "metadata": {},
   "outputs": [],
   "source": [
    "s='abc'"
   ]
  },
  {
   "cell_type": "code",
   "execution_count": 2,
   "metadata": {},
   "outputs": [
    {
     "data": {
      "text/plain": [
       "'a'"
      ]
     },
     "execution_count": 2,
     "metadata": {},
     "output_type": "execute_result"
    }
   ],
   "source": [
    "s[0]"
   ]
  },
  {
   "cell_type": "code",
   "execution_count": 4,
   "metadata": {},
   "outputs": [
    {
     "data": {
      "text/plain": [
       "False"
      ]
     },
     "execution_count": 4,
     "metadata": {},
     "output_type": "execute_result"
    }
   ],
   "source": [
    "s[0].isupper()"
   ]
  },
  {
   "cell_type": "code",
   "execution_count": 7,
   "metadata": {},
   "outputs": [
    {
     "data": {
      "text/plain": [
       "'A'"
      ]
     },
     "execution_count": 7,
     "metadata": {},
     "output_type": "execute_result"
    }
   ],
   "source": [
    "chr(ord(s[0])-32)"
   ]
  },
  {
   "cell_type": "code",
   "execution_count": 3,
   "metadata": {},
   "outputs": [
    {
     "name": "stdout",
     "output_type": "stream",
     "text": [
      "rRhrXCuSsRVsNtYOLVSXhOgYZWbmZUlcuJCsEwMbaHODTeKGzJdKfJAxxaVJtVrFhUhgTOPOXAEonZffURFnLrDaVryLNLFDimSi\n",
      "RrHRxcUsSrvSnTyolvsxHoGyzwBMzuLCUjcSeWmBAhodtEkgZjDkFjaXXAvjTvRfHuHGtopoxaeONzFFurfNlRdAvRYlnlfdIMsI\n"
     ]
    }
   ],
   "source": [
    "st=input()\n",
    "nst=''\n",
    "n=len(st)\n",
    "for i in range(n):\n",
    "    if(65<=ord(st[i])<=90):\n",
    "        nst+=chr(ord(st[i])+32)\n",
    "    else:\n",
    "        nst+=chr(ord(st[i])-32)\n",
    "print(nst)"
   ]
  },
  {
   "cell_type": "code",
   "execution_count": 1,
   "metadata": {},
   "outputs": [],
   "source": [
    "c={'c':2,'a':1}"
   ]
  },
  {
   "cell_type": "code",
   "execution_count": 3,
   "metadata": {},
   "outputs": [
    {
     "name": "stdout",
     "output_type": "stream",
     "text": [
      "hi\n"
     ]
    }
   ],
   "source": [
    "if('c' in c):\n",
    "    print('hi')"
   ]
  },
  {
   "cell_type": "code",
   "execution_count": 4,
   "metadata": {},
   "outputs": [
    {
     "data": {
      "text/plain": [
       "3"
      ]
     },
     "execution_count": 4,
     "metadata": {},
     "output_type": "execute_result"
    }
   ],
   "source": [
    "sum(list(c.values()))"
   ]
  },
  {
   "cell_type": "code",
   "execution_count": 10,
   "metadata": {},
   "outputs": [
    {
     "name": "stdout",
     "output_type": "stream",
     "text": [
      "1\n",
      "aabde\n",
      "ggdbc\n",
      "{'a': 2, 'b': 1, 'd': 1, 'e': 1} {'g': 2, 'd': 1, 'b': 1, 'c': 1}\n",
      "{'a': 2, 'b': 0, 'd': 0, 'e': 1} {'g': 2, 'd': 0, 'b': 0, 'c': 1}\n",
      "6\n"
     ]
    }
   ],
   "source": [
    "n=int(input())\n",
    "for i in range(n):\n",
    "    a1=input()\n",
    "    n1=len(a1)\n",
    "    a2=input()\n",
    "    n2=len(a2)\n",
    "    di_a1={}\n",
    "    di_a2={}\n",
    "    for i in range(n1):\n",
    "        if(a1[i] not in di_a1):\n",
    "            di_a1[a1[i]]=1\n",
    "        else:\n",
    "            di_a1[a1[i]]+=1\n",
    "    for i in range(n2):\n",
    "        if(a2[i] not in di_a2):\n",
    "            di_a2[a2[i]]=1\n",
    "        else:\n",
    "            di_a2[a2[i]]+=1\n",
    "    print(di_a1,di_a2)\n",
    "    for k,v in di_a1.items():\n",
    "        if(k in di_a2):\n",
    "            if(v>di_a2[k]):\n",
    "                di_a1[k]=di_a1[k]-di_a2[k]\n",
    "                di_a2[k]=0\n",
    "            elif(di_a1[k]<di_a2[k]):\n",
    "                di_a2[k]=di_a2[k]-di_a1[k]\n",
    "                di_a1[k]=0\n",
    "            else:\n",
    "                di_a1[k]=0\n",
    "                di_a2[k]=0\n",
    "    print(di_a1,di_a2)            \n",
    "    print(sum(list(di_a1.values()))+sum(list(di_a2.values())))"
   ]
  },
  {
   "cell_type": "code",
   "execution_count": null,
   "metadata": {},
   "outputs": [],
   "source": []
  }
 ],
 "metadata": {
  "kernelspec": {
   "display_name": "Python 3",
   "language": "python",
   "name": "python3"
  },
  "language_info": {
   "codemirror_mode": {
    "name": "ipython",
    "version": 3
   },
   "file_extension": ".py",
   "mimetype": "text/x-python",
   "name": "python",
   "nbconvert_exporter": "python",
   "pygments_lexer": "ipython3",
   "version": "3.7.3"
  }
 },
 "nbformat": 4,
 "nbformat_minor": 2
}
