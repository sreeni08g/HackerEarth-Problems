{
 "cells": [
  {
   "cell_type": "markdown",
   "metadata": {},
   "source": [
    "https://www.geeksforgeeks.org/write-a-c-program-to-print-all-permutations-of-a-given-string/"
   ]
  },
  {
   "cell_type": "code",
   "execution_count": 6,
   "metadata": {},
   "outputs": [],
   "source": [
    "s=\"aabc\""
   ]
  },
  {
   "cell_type": "code",
   "execution_count": 7,
   "metadata": {},
   "outputs": [],
   "source": [
    "def permute(s,l,r):\n",
    "    if(l==r):\n",
    "        print(''.join(s))\n",
    "    else:\n",
    "        for i in range(l,r):\n",
    "            s[i],s[l]=s[l],s[i]\n",
    "            permute(s,l+1,r)\n",
    "            s[l],s[i]=s[i],s[l]"
   ]
  },
  {
   "cell_type": "code",
   "execution_count": 9,
   "metadata": {},
   "outputs": [
    {
     "name": "stdout",
     "output_type": "stream",
     "text": [
      "aabc\n",
      "aacb\n",
      "abac\n",
      "abca\n",
      "acba\n",
      "acab\n",
      "aabc\n",
      "aacb\n",
      "abac\n",
      "abca\n",
      "acba\n",
      "acab\n",
      "baac\n",
      "baca\n",
      "baac\n",
      "baca\n",
      "bcaa\n",
      "bcaa\n",
      "caba\n",
      "caab\n",
      "cbaa\n",
      "cbaa\n",
      "caba\n",
      "caab\n"
     ]
    }
   ],
   "source": [
    "permute(list(s),0,4)"
   ]
  },
  {
   "cell_type": "code",
   "execution_count": null,
   "metadata": {},
   "outputs": [],
   "source": []
  }
 ],
 "metadata": {
  "kernelspec": {
   "display_name": "Python 3",
   "language": "python",
   "name": "python3"
  },
  "language_info": {
   "codemirror_mode": {
    "name": "ipython",
    "version": 3
   },
   "file_extension": ".py",
   "mimetype": "text/x-python",
   "name": "python",
   "nbconvert_exporter": "python",
   "pygments_lexer": "ipython3",
   "version": "3.7.3"
  }
 },
 "nbformat": 4,
 "nbformat_minor": 2
}
