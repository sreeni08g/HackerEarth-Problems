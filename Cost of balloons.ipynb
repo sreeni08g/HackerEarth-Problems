{
 "cells": [
  {
   "cell_type": "markdown",
   "metadata": {},
   "source": [
    "https://www.hackerearth.com/practice/basic-programming/input-output/basics-of-input-output/practice-problems/algorithm/mojtaba-prepares-contest-29b2a044/"
   ]
  },
  {
   "cell_type": "code",
   "execution_count": 3,
   "metadata": {},
   "outputs": [
    {
     "name": "stdout",
     "output_type": "stream",
     "text": [
      "1\n",
      "4 5\n",
      "3\n",
      "1 1\n",
      "0 1\n",
      "1 1\n",
      "[1, 1, 0, 1, 1, 1]\n"
     ]
    }
   ],
   "source": [
    "n=int(input())\n",
    "li=[]\n",
    "for i in range(n):\n",
    "    cost_g,cost_p=map(int,(input().split()))\n",
    "    nparti=int(input())\n",
    "    for j in range(nparti):\n",
    "        t1,t2=map(int,(input().split()))\n",
    "        li.append(t1)\n",
    "        li.append(t2)\n",
    "    "
   ]
  },
  {
   "cell_type": "code",
   "execution_count": 7,
   "metadata": {},
   "outputs": [
    {
     "name": "stdout",
     "output_type": "stream",
     "text": [
      "1\n",
      "1 9\n",
      "10\n",
      "0 1\n",
      "0 0\n",
      "0 0\n",
      "0 1\n",
      "1 0\n",
      "0 1\n",
      "0 1\n",
      "0 0\n",
      "0 1\n",
      "0 0\n",
      "1 5\n",
      "14\n"
     ]
    }
   ],
   "source": [
    "n=int(input())\n",
    "for i in range(n):\n",
    "    mincost=0\n",
    "    li=[]\n",
    "    cost_g,cost_p=map(int,(input().split()))\n",
    "    nparti=int(input())\n",
    "    for j in range(nparti):\n",
    "        t1,t2=map(int,(input().split()))\n",
    "        li.append(t1)\n",
    "        li.append(t2)\n",
    "    prob_one=0\n",
    "    prob_two=0\n",
    "    for k in range(len(li)):\n",
    "        if(k%2==0):\n",
    "            prob_one+=li[k]\n",
    "        else:\n",
    "            prob_two+=li[k]\n",
    "    print(prob_one,prob_two)\n",
    "    if(cost_g>=cost_p):\n",
    "        if(prob_one>=prob_two):\n",
    "            mincost+=prob_one*cost_p\n",
    "            mincost+=prob_two*cost_g\n",
    "        else:\n",
    "            mincost+=prob_two*cost_p\n",
    "            mincost+=prob_one*cost_g\n",
    "    else:\n",
    "        if(prob_one>=prob_two):\n",
    "            mincost+=prob_one*cost_g\n",
    "            mincost+=prob_two*cost_p\n",
    "        else:\n",
    "            mincost+=prob_two*cost_g\n",
    "            mincost+=prob_one*cost_p\n",
    "    print(mincost)"
   ]
  },
  {
   "cell_type": "code",
   "execution_count": null,
   "metadata": {},
   "outputs": [],
   "source": [
    "0 1\n",
    "0 0\n",
    "0 0\n",
    "0 1\n",
    "1 0\n",
    "0 1\n",
    "0 1\n",
    "0 0\n",
    "0 1\n",
    "0 0"
   ]
  }
 ],
 "metadata": {
  "kernelspec": {
   "display_name": "Python 3",
   "language": "python",
   "name": "python3"
  },
  "language_info": {
   "codemirror_mode": {
    "name": "ipython",
    "version": 3
   },
   "file_extension": ".py",
   "mimetype": "text/x-python",
   "name": "python",
   "nbconvert_exporter": "python",
   "pygments_lexer": "ipython3",
   "version": "3.7.3"
  }
 },
 "nbformat": 4,
 "nbformat_minor": 2
}
