{
 "cells": [
  {
   "cell_type": "markdown",
   "metadata": {},
   "source": [
    "https://www.hackerrank.com/challenges/fraudulent-activity-notifications/problem?h_l=interview&playlist_slugs%5B%5D=interview-preparation-kit&playlist_slugs%5B%5D=sorting"
   ]
  },
  {
   "cell_type": "code",
   "execution_count": 1,
   "metadata": {},
   "outputs": [],
   "source": [
    "def median(arr,ele,l,r):\n",
    "    print(l,r,arr)\n",
    "    if(l<r):\n",
    "        mid=int((l+r)/2)\n",
    "        if(arr[mid]==ele):\n",
    "            arr.insert(mid,ele)\n",
    "            return\n",
    "        elif(arr[mid]<=ele<=arr[mid+1] and mid<r):\n",
    "            arr.insert(mid+1,ele)\n",
    "            return\n",
    "        elif(arr[mid-1]<=ele<=arr[mid] and mid>=1):\n",
    "            arr.insert(mid,ele)\n",
    "            return\n",
    "        elif(arr[mid]>ele):\n",
    "            median(arr,ele,l,mid-1)\n",
    "        elif(arr[mid]<ele):\n",
    "            median(arr,ele,mid+1,r)\n",
    "    else:\n",
    "        if(l==0):\n",
    "            arr.insert(0,ele)\n",
    "        else:\n",
    "            arr.append(ele)\n",
    "        return    \n",
    "            "
   ]
  },
  {
   "cell_type": "code",
   "execution_count": 2,
   "metadata": {},
   "outputs": [],
   "source": [
    "arr=[1,2,3,4]"
   ]
  },
  {
   "cell_type": "code",
   "execution_count": 17,
   "metadata": {},
   "outputs": [
    {
     "name": "stdout",
     "output_type": "stream",
     "text": [
      "0 10 [-1, 0, 0.8, 1, 1, 2, 2.1, 3, 4, 4.2, 5]\n"
     ]
    }
   ],
   "source": [
    "median(arr,2,0,10)"
   ]
  },
  {
   "cell_type": "code",
   "execution_count": 23,
   "metadata": {},
   "outputs": [
    {
     "data": {
      "text/plain": [
       "[-1, 0, 0.8, 2, 2, 2.1, 3, 4, 4.2, 5]"
      ]
     },
     "execution_count": 23,
     "metadata": {},
     "output_type": "execute_result"
    }
   ],
   "source": [
    "arr"
   ]
  },
  {
   "cell_type": "code",
   "execution_count": 22,
   "metadata": {},
   "outputs": [],
   "source": [
    "arr.remove(1)"
   ]
  },
  {
   "cell_type": "code",
   "execution_count": 24,
   "metadata": {},
   "outputs": [],
   "source": [
    "arr=[1,1]"
   ]
  },
  {
   "cell_type": "code",
   "execution_count": 25,
   "metadata": {},
   "outputs": [
    {
     "data": {
      "text/plain": [
       "[1]"
      ]
     },
     "execution_count": 25,
     "metadata": {},
     "output_type": "execute_result"
    }
   ],
   "source": [
    "arr[1:]"
   ]
  },
  {
   "cell_type": "code",
   "execution_count": null,
   "metadata": {},
   "outputs": [],
   "source": []
  }
 ],
 "metadata": {
  "kernelspec": {
   "display_name": "Python 3",
   "language": "python",
   "name": "python3"
  },
  "language_info": {
   "codemirror_mode": {
    "name": "ipython",
    "version": 3
   },
   "file_extension": ".py",
   "mimetype": "text/x-python",
   "name": "python",
   "nbconvert_exporter": "python",
   "pygments_lexer": "ipython3",
   "version": "3.7.3"
  }
 },
 "nbformat": 4,
 "nbformat_minor": 2
}
