{
 "cells": [
  {
   "cell_type": "markdown",
   "metadata": {},
   "source": [
    "https://www.hackerearth.com/practice/algorithms/string-algorithm/basics-of-string-manipulation/practice-problems/algorithm/aliceandstrings-9da62aa7/"
   ]
  },
  {
   "cell_type": "code",
   "execution_count": null,
   "metadata": {},
   "outputs": [],
   "source": [
    "a=input()\n",
    "b=input()\n",
    "li=[]\n",
    "ind_zero=1000000\n",
    "f=0\n",
    "for i in range(len(a)):\n",
    "    diff=ord(b[i])-ord(a[i])\n",
    "    #li.append(diff)\n",
    "    if(diff<0):\n",
    "        #print('NO')\n",
    "        f=1\n",
    "        break\n",
    "    elif(diff==0):\n",
    "        ind_zero=i\n",
    "    elif(diff>0 and i>ind_zero):\n",
    "        #print('NO')\n",
    "        f=1\n",
    "        break\n",
    "if(f):\n",
    "    print('NO')\n",
    "else:\n",
    "    print('YES')"
   ]
  },
  {
   "cell_type": "code",
   "execution_count": null,
   "metadata": {},
   "outputs": [],
   "source": []
  }
 ],
 "metadata": {
  "kernelspec": {
   "display_name": "Python 3",
   "language": "python",
   "name": "python3"
  },
  "language_info": {
   "codemirror_mode": {
    "name": "ipython",
    "version": 3
   },
   "file_extension": ".py",
   "mimetype": "text/x-python",
   "name": "python",
   "nbconvert_exporter": "python",
   "pygments_lexer": "ipython3",
   "version": "3.7.3"
  }
 },
 "nbformat": 4,
 "nbformat_minor": 2
}
