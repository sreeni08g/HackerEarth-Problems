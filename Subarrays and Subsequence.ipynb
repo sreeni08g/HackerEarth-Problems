{
 "cells": [
  {
   "cell_type": "code",
   "execution_count": 1,
   "metadata": {},
   "outputs": [],
   "source": [
    "arr=[1,2,3,4]"
   ]
  },
  {
   "cell_type": "code",
   "execution_count": 4,
   "metadata": {},
   "outputs": [],
   "source": [
    "def subarray(arr,li):\n",
    "    n=len(arr)\n",
    "    for i in range(1,n+1):\n",
    "        for j in range(0,n+1-i):\n",
    "            li.append(arr[j:j+i])\n",
    "    return li"
   ]
  },
  {
   "cell_type": "code",
   "execution_count": 5,
   "metadata": {},
   "outputs": [
    {
     "data": {
      "text/plain": [
       "[[1],\n",
       " [2],\n",
       " [3],\n",
       " [4],\n",
       " [1, 2],\n",
       " [2, 3],\n",
       " [3, 4],\n",
       " [1, 2, 3],\n",
       " [2, 3, 4],\n",
       " [1, 2, 3, 4]]"
      ]
     },
     "execution_count": 5,
     "metadata": {},
     "output_type": "execute_result"
    }
   ],
   "source": [
    "subarray(arr,[])"
   ]
  },
  {
   "cell_type": "code",
   "execution_count": 2,
   "metadata": {},
   "outputs": [],
   "source": [
    "import math \n",
    "  \n",
    "def printSubsequences(arr, n) : \n",
    "  \n",
    "    # Number of subsequences is (2**n -1) \n",
    "    opsize = math.pow(2, n) \n",
    "  \n",
    "    # Run from counter 000..1 to 111..1 \n",
    "    for counter in range( 1, (int)(opsize)) : \n",
    "        for j in range(0, n) : \n",
    "              \n",
    "            # Check if jth bit in the counter \n",
    "            # is set If set then print jth  \n",
    "            # element from arr[]  \n",
    "            if (counter & (1<<j)) : \n",
    "                print(\"***\",counter,j)\n",
    "                print( arr[j], end =\" \") \n",
    "        print()"
   ]
  },
  {
   "cell_type": "code",
   "execution_count": 3,
   "metadata": {},
   "outputs": [
    {
     "name": "stdout",
     "output_type": "stream",
     "text": [
      "*** 1 0\n",
      "a \n",
      "*** 2 1\n",
      "b \n",
      "*** 3 0\n",
      "a *** 3 1\n",
      "b \n",
      "*** 4 2\n",
      "c \n",
      "*** 5 0\n",
      "a *** 5 2\n",
      "c \n",
      "*** 6 1\n",
      "b *** 6 2\n",
      "c \n",
      "*** 7 0\n",
      "a *** 7 1\n",
      "b *** 7 2\n",
      "c \n"
     ]
    }
   ],
   "source": [
    "printSubsequences('abc',3)"
   ]
  },
  {
   "cell_type": "code",
   "execution_count": null,
   "metadata": {},
   "outputs": [],
   "source": []
  }
 ],
 "metadata": {
  "kernelspec": {
   "display_name": "Python 3",
   "language": "python",
   "name": "python3"
  },
  "language_info": {
   "codemirror_mode": {
    "name": "ipython",
    "version": 3
   },
   "file_extension": ".py",
   "mimetype": "text/x-python",
   "name": "python",
   "nbconvert_exporter": "python",
   "pygments_lexer": "ipython3",
   "version": "3.7.3"
  }
 },
 "nbformat": 4,
 "nbformat_minor": 2
}
