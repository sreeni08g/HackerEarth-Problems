{
 "cells": [
  {
   "cell_type": "markdown",
   "metadata": {},
   "source": [
    "https://www.hackerearth.com/practice/basic-programming/input-output/basics-of-input-output/practice-problems/algorithm/friends-relationship-1/"
   ]
  },
  {
   "cell_type": "code",
   "execution_count": 7,
   "metadata": {},
   "outputs": [
    {
     "name": "stdout",
     "output_type": "stream",
     "text": [
      "2\n",
      "3\n",
      "*####*\n",
      "\n",
      "**##**\n",
      "\n",
      "******\n",
      "\n",
      "4\n",
      "*######*\n",
      "\n",
      "**####**\n",
      "\n",
      "***##***\n",
      "\n",
      "********\n",
      "\n"
     ]
    }
   ],
   "source": [
    "n_test=int(input())\n",
    "for tCase in range(n_test):\n",
    "    n=int(input())\n",
    "    jMax=(n-1)*2\n",
    "    for i in range(n):\n",
    "        jMin=i+1\n",
    "        for j in range(2*n):\n",
    "            if(jMin<=j<=jMax):\n",
    "                print('#',end='')\n",
    "            else:\n",
    "                print('*',end='')\n",
    "        jMax-=1\n",
    "        print('\\n')"
   ]
  },
  {
   "cell_type": "code",
   "execution_count": null,
   "metadata": {},
   "outputs": [],
   "source": []
  }
 ],
 "metadata": {
  "kernelspec": {
   "display_name": "Python 3",
   "language": "python",
   "name": "python3"
  },
  "language_info": {
   "codemirror_mode": {
    "name": "ipython",
    "version": 3
   },
   "file_extension": ".py",
   "mimetype": "text/x-python",
   "name": "python",
   "nbconvert_exporter": "python",
   "pygments_lexer": "ipython3",
   "version": "3.7.3"
  }
 },
 "nbformat": 4,
 "nbformat_minor": 2
}
