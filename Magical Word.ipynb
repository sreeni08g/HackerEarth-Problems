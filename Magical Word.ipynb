{
 "cells": [
  {
   "cell_type": "markdown",
   "metadata": {},
   "source": [
    "# https://www.hackerearth.com/practice/basic-programming/input-output/basics-of-input-output/practice-problems/algorithm/magical-word/"
   ]
  },
  {
   "cell_type": "code",
   "execution_count": 34,
   "metadata": {},
   "outputs": [],
   "source": [
    "import math\n",
    "def checkPrime(n):\n",
    "    if(n==2 or n==3):\n",
    "        return 1\n",
    "    for i in range(2,math.ceil(math.sqrt(n))+1):\n",
    "        if(n%i==0):\n",
    "            return 0\n",
    "    return 1"
   ]
  },
  {
   "cell_type": "code",
   "execution_count": 35,
   "metadata": {},
   "outputs": [
    {
     "data": {
      "text/plain": [
       "0"
      ]
     },
     "execution_count": 35,
     "metadata": {},
     "output_type": "execute_result"
    }
   ],
   "source": [
    "checkPrime(121)"
   ]
  },
  {
   "cell_type": "code",
   "execution_count": 37,
   "metadata": {},
   "outputs": [
    {
     "name": "stdout",
     "output_type": "stream",
     "text": [
      "5\n",
      "10\n",
      "1234567890\n",
      "//555555;/\n",
      "8\n",
      "S@#!#$op\n",
      "S=%%%%mq\n",
      "6\n",
      "S#!v@m\n",
      "S%%q=m\n",
      "11\n",
      "!@#$%^&*()_\n",
      "%=%%%a%)))a\n",
      "15\n",
      "+=-\\|]}[{'\";:><\n",
      "+=+YqYqYq%%;;=;\n"
     ]
    }
   ],
   "source": [
    "import math\n",
    "def checkPrime(n):\n",
    "    if(n==2 or n==3):\n",
    "        return 1\n",
    "    for i in range(2,math.ceil(math.sqrt(n))+1):\n",
    "        if(n%i==0):\n",
    "            return 0\n",
    "    return 1\n",
    "t=int(input())\n",
    "while(t>0):\n",
    "    t=t-1\n",
    "    n=input()\n",
    "    s=input()\n",
    "    new_s=''\n",
    "    for i in range(len(s)):\n",
    "        asc = ord(s[i])\n",
    "        if(33<=asc<=93):\n",
    "            end_left = 33\n",
    "            end_right = 93\n",
    "            if(checkPrime(asc)):\n",
    "                new_s += chr(asc)\n",
    "            else:\n",
    "                left = 999\n",
    "                right = 999\n",
    "                for k in range(asc+1,end_right):\n",
    "                    if(checkPrime(k)):\n",
    "                        right = k\n",
    "                        break\n",
    "                for k in range(asc-1,end_left,-1):\n",
    "                    if(checkPrime(k)):\n",
    "                        left = k\n",
    "                        break\n",
    "                diff_left = abs(asc-left)\n",
    "                diff_right = abs(asc-right)\n",
    "                if(diff_left==diff_right):\n",
    "                    new_s+=chr(left)\n",
    "                \n",
    "                elif(diff_left<diff_right):\n",
    "                    new_s+=chr(left)\n",
    "                else:\n",
    "                    new_s+=chr(right)\n",
    "        else:\n",
    "            end_left = 94\n",
    "            end_right = 126\n",
    "            if(checkPrime(asc)):\n",
    "                new_s += chr(asc)\n",
    "            else:\n",
    "                left = 999\n",
    "                right = 999\n",
    "                for k in range(asc+1,end_right):\n",
    "                    if(checkPrime(k)):\n",
    "                        right = k\n",
    "                        break\n",
    "                for k in range(asc-1,end_left-1,-1):\n",
    "                    if(checkPrime(k)):\n",
    "                        left = k\n",
    "                        break\n",
    "                diff_left = abs(asc-left)\n",
    "                diff_right = abs(asc-right)\n",
    "                if(diff_left==diff_right):\n",
    "                    new_s+=chr(left)\n",
    "                \n",
    "                elif(diff_left<diff_right):\n",
    "                    new_s+=chr(left)\n",
    "                else:\n",
    "                    new_s+=chr(right)\n",
    "            \n",
    "    print(new_s)"
   ]
  },
  {
   "cell_type": "code",
   "execution_count": null,
   "metadata": {},
   "outputs": [],
   "source": [
    "CCCCCCCCCC\n",
    "SCCCCCmq\n",
    "SCCqCm\n",
    "CCCCCaCCCCa\n",
    "CCCYqYqYqCCCCCC"
   ]
  },
  {
   "cell_type": "code",
   "execution_count": 28,
   "metadata": {},
   "outputs": [
    {
     "name": "stdout",
     "output_type": "stream",
     "text": [
      "5\n",
      "4\n",
      "3\n"
     ]
    }
   ],
   "source": [
    "for i in range(5,2,-1):\n",
    "    print(i)"
   ]
  },
  {
   "cell_type": "code",
   "execution_count": 36,
   "metadata": {},
   "outputs": [],
   "source": [
    "s='a'"
   ]
  },
  {
   "cell_type": "code",
   "execution_count": null,
   "metadata": {},
   "outputs": [],
   "source": [
    "s.i"
   ]
  }
 ],
 "metadata": {
  "kernelspec": {
   "display_name": "Python 3",
   "language": "python",
   "name": "python3"
  },
  "language_info": {
   "codemirror_mode": {
    "name": "ipython",
    "version": 3
   },
   "file_extension": ".py",
   "mimetype": "text/x-python",
   "name": "python",
   "nbconvert_exporter": "python",
   "pygments_lexer": "ipython3",
   "version": "3.7.3"
  }
 },
 "nbformat": 4,
 "nbformat_minor": 2
}
