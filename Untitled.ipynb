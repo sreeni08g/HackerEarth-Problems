{
 "cells": [
  {
   "cell_type": "code",
   "execution_count": 34,
   "metadata": {},
   "outputs": [],
   "source": [
    "def remove_charges(arr, flag_remove=0):\n",
    "    i=0\n",
    "    n=len(arr)\n",
    "    remove_index=[]\n",
    "    while(i<n-1):\n",
    "        if(arr[i]==arr[i+1]):\n",
    "            remove_index.append(i)\n",
    "            remove_index.append(i+1)\n",
    "            i+=2\n",
    "            flag_remove=1\n",
    "            continue\n",
    "        else:\n",
    "            i+=1\n",
    "\n",
    "    remove_arr =[]\n",
    "    for i in range(n):\n",
    "        if(i not in remove_index):\n",
    "            remove_arr.append(arr[i])\n",
    "        \n",
    "    return (remove_arr,flag_remove)"
   ]
  },
  {
   "cell_type": "code",
   "execution_count": 44,
   "metadata": {},
   "outputs": [],
   "source": [
    "s='a'"
   ]
  },
  {
   "cell_type": "code",
   "execution_count": 45,
   "metadata": {},
   "outputs": [],
   "source": [
    "a=list(s)"
   ]
  },
  {
   "cell_type": "code",
   "execution_count": 46,
   "metadata": {},
   "outputs": [
    {
     "data": {
      "text/plain": [
       "(['a'], 0)"
      ]
     },
     "execution_count": 46,
     "metadata": {},
     "output_type": "execute_result"
    }
   ],
   "source": [
    "remove_charges(a)"
   ]
  },
  {
   "cell_type": "code",
   "execution_count": 53,
   "metadata": {},
   "outputs": [
    {
     "name": "stdout",
     "output_type": "stream",
     "text": [
      "1\n",
      "aab\n",
      "1\n",
      "b\n"
     ]
    }
   ],
   "source": [
    "n = int(input())\n",
    "string = input()\n",
    "modified_string = string\n",
    "i=0\n",
    "while(i<len(modified_string)-1):\n",
    "    if(modified_string[i]==modified_string[i+1]):\n",
    "        modified_string=modified_string[:i]+modified_string[i+2:]\n",
    "        if i == 0: i = 0\n",
    "        else: i = i-1\n",
    "    else:\n",
    "        i+=1\n",
    "print(len(modified_string))\n",
    "print(modified_string)\n"
   ]
  },
  {
   "cell_type": "code",
   "execution_count": null,
   "metadata": {},
   "outputs": [],
   "source": []
  }
 ],
 "metadata": {
  "kernelspec": {
   "display_name": "Python 3",
   "language": "python",
   "name": "python3"
  },
  "language_info": {
   "codemirror_mode": {
    "name": "ipython",
    "version": 3
   },
   "file_extension": ".py",
   "mimetype": "text/x-python",
   "name": "python",
   "nbconvert_exporter": "python",
   "pygments_lexer": "ipython3",
   "version": "3.7.3"
  }
 },
 "nbformat": 4,
 "nbformat_minor": 2
}
