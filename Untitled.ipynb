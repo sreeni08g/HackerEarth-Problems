{
 "cells": [
  {
   "cell_type": "code",
   "execution_count": 34,
   "metadata": {},
   "outputs": [],
   "source": [
    "def remove_charges(arr, flag_remove=0):\n",
    "    i=0\n",
    "    n=len(arr)\n",
    "    remove_index=[]\n",
    "    while(i<n-1):\n",
    "        if(arr[i]==arr[i+1]):\n",
    "            remove_index.append(i)\n",
    "            remove_index.append(i+1)\n",
    "            i+=2\n",
    "            flag_remove=1\n",
    "            continue\n",
    "        else:\n",
    "            i+=1\n",
    "\n",
    "    remove_arr =[]\n",
    "    for i in range(n):\n",
    "        if(i not in remove_index):\n",
    "            remove_arr.append(arr[i])\n",
    "        \n",
    "    return (remove_arr,flag_remove)"
   ]
  },
  {
   "cell_type": "code",
   "execution_count": 44,
   "metadata": {},
   "outputs": [],
   "source": [
    "s='a'"
   ]
  },
  {
   "cell_type": "code",
   "execution_count": 45,
   "metadata": {},
   "outputs": [],
   "source": [
    "a=list(s)"
   ]
  },
  {
   "cell_type": "code",
   "execution_count": 46,
   "metadata": {},
   "outputs": [
    {
     "data": {
      "text/plain": [
       "(['a'], 0)"
      ]
     },
     "execution_count": 46,
     "metadata": {},
     "output_type": "execute_result"
    }
   ],
   "source": [
    "remove_charges(a)"
   ]
  },
  {
   "cell_type": "code",
   "execution_count": 53,
   "metadata": {},
   "outputs": [
    {
     "name": "stdout",
     "output_type": "stream",
     "text": [
      "1\n",
      "aab\n",
      "1\n",
      "b\n"
     ]
    }
   ],
   "source": [
    "n = int(input())\n",
    "string = input()\n",
    "modified_string = string\n",
    "i=0\n",
    "while(i<len(modified_string)-1):\n",
    "    if(modified_string[i]==modified_string[i+1]):\n",
    "        modified_string=modified_string[:i]+modified_string[i+2:]\n",
    "        if i == 0: i = 0\n",
    "        else: i = i-1\n",
    "    else:\n",
    "        i+=1\n",
    "print(len(modified_string))\n",
    "print(modified_string)\n"
   ]
  },
  {
   "cell_type": "code",
   "execution_count": 4,
   "metadata": {},
   "outputs": [
    {
     "name": "stdout",
     "output_type": "stream",
     "text": [
      "1 2\n"
     ]
    }
   ],
   "source": [
    "n,q =map(int,input().split())"
   ]
  },
  {
   "cell_type": "code",
   "execution_count": 6,
   "metadata": {},
   "outputs": [
    {
     "data": {
      "text/plain": [
       "2"
      ]
     },
     "execution_count": 6,
     "metadata": {},
     "output_type": "execute_result"
    }
   ],
   "source": [
    "q\n"
   ]
  },
  {
   "cell_type": "code",
   "execution_count": 22,
   "metadata": {},
   "outputs": [
    {
     "name": "stdout",
     "output_type": "stream",
     "text": [
      "1 1\n",
      "1 0 1 1\n",
      "1 2 3\n",
      "ODD\n"
     ]
    }
   ],
   "source": [
    "def binary_decimal(arr):\n",
    "    decimal_numb=0\n",
    "    power = 0\n",
    "    for i in range(len(arr)-1,0,-1):\n",
    "        decimal_numb+=(2**power)*arr[i]\n",
    "        power+=1\n",
    "    return decimal_numb\n",
    "\n",
    "n,q=map(int,(input().split()))\n",
    "arr = list(input().split())\n",
    "for i in range(q):\n",
    "    q_list = list(map(int,input().split()))\n",
    "    if (len(q_list)==2):\n",
    "        arr[q_list[1]-1]='1'\n",
    "    else:\n",
    "        start_index=q_list[1]-1\n",
    "        end_index  = q_list[2]\n",
    "        decimal_numb=int(''.join(arr[start_index:end_index]),2)\n",
    "        if(decimal_numb%2==0):\n",
    "            print('EVEN')\n",
    "        else:\n",
    "            print('ODD')\n",
    "        \n",
    "        "
   ]
  },
  {
   "cell_type": "code",
   "execution_count": 16,
   "metadata": {},
   "outputs": [],
   "source": [
    "def binary_decimal(arr):\n",
    "    decimal_numb=0\n",
    "    power = 0\n",
    "    for i in range(len(arr)-1,0,-1):\n",
    "        print((2**power)*arr[i])\n",
    "        decimal_numb+=(2**power)*arr[i]\n",
    "        power+=1\n",
    "    return decimal_numb"
   ]
  },
  {
   "cell_type": "code",
   "execution_count": 17,
   "metadata": {},
   "outputs": [
    {
     "name": "stdout",
     "output_type": "stream",
     "text": [
      "1\n",
      "2\n"
     ]
    },
    {
     "data": {
      "text/plain": [
       "3"
      ]
     },
     "execution_count": 17,
     "metadata": {},
     "output_type": "execute_result"
    }
   ],
   "source": [
    "binary_decimal([0,1,1])"
   ]
  },
  {
   "cell_type": "code",
   "execution_count": 19,
   "metadata": {},
   "outputs": [
    {
     "data": {
      "text/plain": [
       "4"
      ]
     },
     "execution_count": 19,
     "metadata": {},
     "output_type": "execute_result"
    }
   ],
   "source": [
    "int('100',2)"
   ]
  },
  {
   "cell_type": "code",
   "execution_count": 20,
   "metadata": {},
   "outputs": [],
   "source": [
    "arr= ['1','2']"
   ]
  },
  {
   "cell_type": "code",
   "execution_count": 21,
   "metadata": {},
   "outputs": [
    {
     "data": {
      "text/plain": [
       "'12'"
      ]
     },
     "execution_count": 21,
     "metadata": {},
     "output_type": "execute_result"
    }
   ],
   "source": [
    "''.join(arr)"
   ]
  },
  {
   "cell_type": "code",
   "execution_count": 41,
   "metadata": {},
   "outputs": [],
   "source": [
    "a=['1','2']"
   ]
  },
  {
   "cell_type": "code",
   "execution_count": 43,
   "metadata": {},
   "outputs": [],
   "source": [
    "b=list(map(int,a))"
   ]
  },
  {
   "cell_type": "code",
   "execution_count": 45,
   "metadata": {},
   "outputs": [
    {
     "ename": "AttributeError",
     "evalue": "'list' object has no attribute 'max'",
     "output_type": "error",
     "traceback": [
      "\u001b[0;31m---------------------------------------------------------------------------\u001b[0m",
      "\u001b[0;31mAttributeError\u001b[0m                            Traceback (most recent call last)",
      "\u001b[0;32m<ipython-input-45-fe05da57cc16>\u001b[0m in \u001b[0;36m<module>\u001b[0;34m\u001b[0m\n\u001b[0;32m----> 1\u001b[0;31m \u001b[0mb\u001b[0m\u001b[0;34m.\u001b[0m\u001b[0mmax\u001b[0m\u001b[0;34m(\u001b[0m\u001b[0;34m)\u001b[0m\u001b[0;34m\u001b[0m\u001b[0;34m\u001b[0m\u001b[0m\n\u001b[0m",
      "\u001b[0;31mAttributeError\u001b[0m: 'list' object has no attribute 'max'"
     ]
    }
   ],
   "source": [
    "b.max()"
   ]
  },
  {
   "cell_type": "code",
   "execution_count": null,
   "metadata": {},
   "outputs": [],
   "source": []
  }
 ],
 "metadata": {
  "kernelspec": {
   "display_name": "Python 3",
   "language": "python",
   "name": "python3"
  },
  "language_info": {
   "codemirror_mode": {
    "name": "ipython",
    "version": 3
   },
   "file_extension": ".py",
   "mimetype": "text/x-python",
   "name": "python",
   "nbconvert_exporter": "python",
   "pygments_lexer": "ipython3",
   "version": "3.7.3"
  }
 },
 "nbformat": 4,
 "nbformat_minor": 2
}
