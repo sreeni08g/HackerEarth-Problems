{
 "cells": [
  {
   "cell_type": "code",
   "execution_count": 9,
   "metadata": {},
   "outputs": [
    {
     "name": "stdout",
     "output_type": "stream",
     "text": [
      "1\n",
      "2\n",
      "1 1\n",
      "1 1\n",
      "0 0\n",
      "0 1\n",
      "1 0\n",
      "1 1\n",
      "YES\n"
     ]
    }
   ],
   "source": [
    "_ = int(input())\n",
    "for i in range(_):\n",
    "    size = int(input())\n",
    "    matrix=[]\n",
    "    for j in range(size):\n",
    "        temp=list(map(int,input().split()))\n",
    "        matrix.append(temp)\n",
    "    flag_check=0\n",
    "    for k in range(size):\n",
    "        for l in range(size):\n",
    "            #print(k,l)\n",
    "            if(matrix[k][l]==1):\n",
    "                if(matrix[size-1-k][l]!=1 or matrix[k][size-1-l]!=1 ):\n",
    "                    flag_check=1\n",
    "                    print('NO')\n",
    "                    break\n",
    "        if(flag_check==1):\n",
    "            break\n",
    "    if(flag_check==0):\n",
    "        print('YES')"
   ]
  },
  {
   "cell_type": "code",
   "execution_count": 4,
   "metadata": {},
   "outputs": [
    {
     "name": "stdout",
     "output_type": "stream",
     "text": [
      "yes\n",
      "yes\n",
      "yes\n",
      "yes\n",
      "yes\n"
     ]
    }
   ],
   "source": [
    "for i in range(5):\n",
    "    for j in range(5):\n",
    "        if(j==2):\n",
    "            print('yes')\n",
    "            break"
   ]
  },
  {
   "cell_type": "code",
   "execution_count": 10,
   "metadata": {},
   "outputs": [
    {
     "name": "stdout",
     "output_type": "stream",
     "text": [
      "1111\n"
     ]
    }
   ],
   "source": [
    "t=list(map(int,input()))"
   ]
  },
  {
   "cell_type": "code",
   "execution_count": 11,
   "metadata": {},
   "outputs": [
    {
     "data": {
      "text/plain": [
       "[1, 1, 1, 1]"
      ]
     },
     "execution_count": 11,
     "metadata": {},
     "output_type": "execute_result"
    }
   ],
   "source": [
    "t\n"
   ]
  },
  {
   "cell_type": "code",
   "execution_count": null,
   "metadata": {},
   "outputs": [],
   "source": []
  }
 ],
 "metadata": {
  "kernelspec": {
   "display_name": "Python 3",
   "language": "python",
   "name": "python3"
  },
  "language_info": {
   "codemirror_mode": {
    "name": "ipython",
    "version": 3
   },
   "file_extension": ".py",
   "mimetype": "text/x-python",
   "name": "python",
   "nbconvert_exporter": "python",
   "pygments_lexer": "ipython3",
   "version": "3.7.3"
  }
 },
 "nbformat": 4,
 "nbformat_minor": 2
}
