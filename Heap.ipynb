{
 "cells": [
  {
   "cell_type": "code",
   "execution_count": 39,
   "metadata": {},
   "outputs": [],
   "source": [
    "def heapify(arr,i,length):\n",
    "    largest=i\n",
    "    left=2*i+1\n",
    "    right=2*i+2\n",
    "    if(left<length and arr[left]>arr[largest]):\n",
    "        largest=left\n",
    "    if(right<length and arr[right]>arr[largest]):\n",
    "        largest=right\n",
    "    if(largest!=i):\n",
    "        temp=arr[i]\n",
    "        arr[i]=arr[largest]\n",
    "        arr[largest]=temp\n",
    "        heapify(arr,largest,length)"
   ]
  },
  {
   "cell_type": "code",
   "execution_count": 70,
   "metadata": {},
   "outputs": [],
   "source": [
    "def buildheap(arr,n,k):\n",
    "    start_ind=int(n/2)-1\n",
    "    for j in range(start_ind,-1,-1):\n",
    "        heapify(arr,j,n)\n",
    "#         print(arr)\n",
    "    \n",
    "    for j in range(k):\n",
    "        print(arr[0],arr,n-j-1,len(arr))\n",
    "        arr[0]=arr[n-j-1]\n",
    "        arr=arr[:n-j-1]\n",
    "        heapify(arr,0,n-j-1)"
   ]
  },
  {
   "cell_type": "code",
   "execution_count": 71,
   "metadata": {},
   "outputs": [],
   "source": [
    "arr = [ 1, 3, 5, 4, 6, 13,  \n",
    "             10, 9, 8, 15, 17 ]  \n",
    "n = len(arr)\n",
    "\n",
    "  "
   ]
  },
  {
   "cell_type": "code",
   "execution_count": 72,
   "metadata": {},
   "outputs": [
    {
     "name": "stdout",
     "output_type": "stream",
     "text": [
      "17 [17, 15, 13, 9, 6, 5, 10, 4, 8, 3, 1] 10 11\n",
      "15 [15, 9, 13, 8, 6, 5, 10, 4, 1, 3] 9 10\n",
      "13 [13, 9, 10, 8, 6, 5, 3, 4, 1] 8 9\n",
      "10 [10, 9, 5, 8, 6, 1, 3, 4] 7 8\n",
      "9 [9, 8, 5, 4, 6, 1, 3] 6 7\n",
      "8 [8, 6, 5, 4, 3, 1] 5 6\n",
      "6 [6, 4, 5, 1, 3] 4 5\n",
      "5 [5, 4, 3, 1] 3 4\n",
      "4 [4, 1, 3] 2 3\n",
      "3 [3, 1] 1 2\n",
      "1 [1] 0 1\n"
     ]
    }
   ],
   "source": [
    "buildheap(arr,n,11)"
   ]
  },
  {
   "cell_type": "code",
   "execution_count": 38,
   "metadata": {},
   "outputs": [
    {
     "data": {
      "text/plain": [
       "[1, 1, 1, 1, 1, 1, 1, 1, 4, 3, 1]"
      ]
     },
     "execution_count": 38,
     "metadata": {},
     "output_type": "execute_result"
    }
   ],
   "source": [
    "arr"
   ]
  },
  {
   "cell_type": "code",
   "execution_count": null,
   "metadata": {},
   "outputs": [],
   "source": []
  }
 ],
 "metadata": {
  "kernelspec": {
   "display_name": "Python 3",
   "language": "python",
   "name": "python3"
  },
  "language_info": {
   "codemirror_mode": {
    "name": "ipython",
    "version": 3
   },
   "file_extension": ".py",
   "mimetype": "text/x-python",
   "name": "python",
   "nbconvert_exporter": "python",
   "pygments_lexer": "ipython3",
   "version": "3.7.3"
  }
 },
 "nbformat": 4,
 "nbformat_minor": 2
}
